{
 "cells": [
  {
   "cell_type": "markdown",
   "metadata": {},
   "source": [
    "# jaccard 유사도를 활용한 Document 비교"
   ]
  },
  {
   "cell_type": "markdown",
   "metadata": {},
   "source": [
    "## Library Import"
   ]
  },
  {
   "cell_type": "code",
   "execution_count": 1,
   "metadata": {
    "ExecuteTime": {
     "end_time": "2022-05-23T11:29:03.535472Z",
     "start_time": "2022-05-23T11:29:02.723361Z"
    }
   },
   "outputs": [],
   "source": [
    "import numpy as np\n",
    "import pandas as pd"
   ]
  },
  {
   "cell_type": "markdown",
   "metadata": {},
   "source": [
    "## data 불러오기\n"
   ]
  },
  {
   "cell_type": "code",
   "execution_count": 145,
   "metadata": {
    "ExecuteTime": {
     "end_time": "2022-05-23T12:44:47.031051Z",
     "start_time": "2022-05-23T12:44:46.999284Z"
    }
   },
   "outputs": [],
   "source": [
    "df=pd.read_excel('./jaccard_source.xlsx') # data 불러오기"
   ]
  },
  {
   "cell_type": "markdown",
   "metadata": {},
   "source": [
    "## data 확인하기"
   ]
  },
  {
   "cell_type": "code",
   "execution_count": 146,
   "metadata": {
    "ExecuteTime": {
     "end_time": "2022-05-23T12:44:47.979498Z",
     "start_time": "2022-05-23T12:44:47.974511Z"
    }
   },
   "outputs": [
    {
     "name": "stdout",
     "output_type": "stream",
     "text": [
      "(18, 2)\n"
     ]
    }
   ],
   "source": [
    "print(df.shape)\n",
    "# df"
   ]
  },
  {
   "cell_type": "markdown",
   "metadata": {
    "ExecuteTime": {
     "end_time": "2022-04-27T14:30:51.466856Z",
     "start_time": "2022-04-27T14:30:51.455301Z"
    }
   },
   "source": [
    "# DataFrame에서 Jaccard similarity 구하기"
   ]
  },
  {
   "cell_type": "markdown",
   "metadata": {},
   "source": [
    "## Concatanate by Groupby"
   ]
  },
  {
   "cell_type": "code",
   "execution_count": 229,
   "metadata": {
    "ExecuteTime": {
     "end_time": "2022-05-23T13:40:10.980055Z",
     "start_time": "2022-05-23T13:40:10.970042Z"
    }
   },
   "outputs": [
    {
     "data": {
      "text/html": [
       "<div>\n",
       "<style scoped>\n",
       "    .dataframe tbody tr th:only-of-type {\n",
       "        vertical-align: middle;\n",
       "    }\n",
       "\n",
       "    .dataframe tbody tr th {\n",
       "        vertical-align: top;\n",
       "    }\n",
       "\n",
       "    .dataframe thead th {\n",
       "        text-align: right;\n",
       "    }\n",
       "</style>\n",
       "<table border=\"1\" class=\"dataframe\">\n",
       "  <thead>\n",
       "    <tr style=\"text-align: right;\">\n",
       "      <th></th>\n",
       "      <th>문서명</th>\n",
       "      <th>Data</th>\n",
       "      <th>문서명2</th>\n",
       "      <th>Data2</th>\n",
       "    </tr>\n",
       "  </thead>\n",
       "  <tbody>\n",
       "    <tr>\n",
       "      <th>0</th>\n",
       "      <td>A</td>\n",
       "      <td>이름,나이,주소,별명,연락처,이메일</td>\n",
       "      <td>A</td>\n",
       "      <td>이름,나이,주소,별명,연락처,이메일</td>\n",
       "    </tr>\n",
       "    <tr>\n",
       "      <th>1</th>\n",
       "      <td>A</td>\n",
       "      <td>이름,나이,주소,별명,연락처,이메일</td>\n",
       "      <td>B</td>\n",
       "      <td>연락처,이메일,SNS,우편번호,별명,주소,투자</td>\n",
       "    </tr>\n",
       "    <tr>\n",
       "      <th>2</th>\n",
       "      <td>A</td>\n",
       "      <td>이름,나이,주소,별명,연락처,이메일</td>\n",
       "      <td>C</td>\n",
       "      <td>이메일,연락처,SNS,우편번호,저축</td>\n",
       "    </tr>\n",
       "    <tr>\n",
       "      <th>3</th>\n",
       "      <td>B</td>\n",
       "      <td>연락처,이메일,SNS,우편번호,별명,주소,투자</td>\n",
       "      <td>A</td>\n",
       "      <td>이름,나이,주소,별명,연락처,이메일</td>\n",
       "    </tr>\n",
       "    <tr>\n",
       "      <th>4</th>\n",
       "      <td>B</td>\n",
       "      <td>연락처,이메일,SNS,우편번호,별명,주소,투자</td>\n",
       "      <td>B</td>\n",
       "      <td>연락처,이메일,SNS,우편번호,별명,주소,투자</td>\n",
       "    </tr>\n",
       "    <tr>\n",
       "      <th>5</th>\n",
       "      <td>B</td>\n",
       "      <td>연락처,이메일,SNS,우편번호,별명,주소,투자</td>\n",
       "      <td>C</td>\n",
       "      <td>이메일,연락처,SNS,우편번호,저축</td>\n",
       "    </tr>\n",
       "    <tr>\n",
       "      <th>6</th>\n",
       "      <td>C</td>\n",
       "      <td>이메일,연락처,SNS,우편번호,저축</td>\n",
       "      <td>A</td>\n",
       "      <td>이름,나이,주소,별명,연락처,이메일</td>\n",
       "    </tr>\n",
       "    <tr>\n",
       "      <th>7</th>\n",
       "      <td>C</td>\n",
       "      <td>이메일,연락처,SNS,우편번호,저축</td>\n",
       "      <td>B</td>\n",
       "      <td>연락처,이메일,SNS,우편번호,별명,주소,투자</td>\n",
       "    </tr>\n",
       "    <tr>\n",
       "      <th>8</th>\n",
       "      <td>C</td>\n",
       "      <td>이메일,연락처,SNS,우편번호,저축</td>\n",
       "      <td>C</td>\n",
       "      <td>이메일,연락처,SNS,우편번호,저축</td>\n",
       "    </tr>\n",
       "  </tbody>\n",
       "</table>\n",
       "</div>"
      ],
      "text/plain": [
       "  문서명                       Data 문서명2                      Data2\n",
       "0   A        이름,나이,주소,별명,연락처,이메일    A        이름,나이,주소,별명,연락처,이메일\n",
       "1   A        이름,나이,주소,별명,연락처,이메일    B  연락처,이메일,SNS,우편번호,별명,주소,투자\n",
       "2   A        이름,나이,주소,별명,연락처,이메일    C        이메일,연락처,SNS,우편번호,저축\n",
       "3   B  연락처,이메일,SNS,우편번호,별명,주소,투자    A        이름,나이,주소,별명,연락처,이메일\n",
       "4   B  연락처,이메일,SNS,우편번호,별명,주소,투자    B  연락처,이메일,SNS,우편번호,별명,주소,투자\n",
       "5   B  연락처,이메일,SNS,우편번호,별명,주소,투자    C        이메일,연락처,SNS,우편번호,저축\n",
       "6   C        이메일,연락처,SNS,우편번호,저축    A        이름,나이,주소,별명,연락처,이메일\n",
       "7   C        이메일,연락처,SNS,우편번호,저축    B  연락처,이메일,SNS,우편번호,별명,주소,투자\n",
       "8   C        이메일,연락처,SNS,우편번호,저축    C        이메일,연락처,SNS,우편번호,저축"
      ]
     },
     "execution_count": 229,
     "metadata": {},
     "output_type": "execute_result"
    }
   ],
   "source": [
    "df_agg=df.groupby([\"문서명\"])[\"Data\"].apply(lambda x: \",\".join(x)).reset_index()\n",
    "r=df_agg.shape[0]\n",
    "df_agg_repeat1 = pd.DataFrame(np.repeat(df_agg.values, r, axis=0), columns=df.columns)\n",
    "df_agg_repeat1['문서명2']=np.tile(df_agg['문서명'],r) # np.tile이용 (순서 그대로 반복)\n",
    "df_agg_repeat1['Data2']=np.tile(df_agg['Data'],r)\n",
    "df_agg_repeat1\n"
   ]
  },
  {
   "cell_type": "code",
   "execution_count": 230,
   "metadata": {
    "ExecuteTime": {
     "end_time": "2022-05-23T13:40:11.509798Z",
     "start_time": "2022-05-23T13:40:11.497640Z"
    }
   },
   "outputs": [],
   "source": [
    "# np.tile(df_agg['문서명'],r) #array순서대로 반영하기\n",
    "# np.tile(df_agg['Data'],r)"
   ]
  },
  {
   "cell_type": "markdown",
   "metadata": {},
   "source": [
    "## Apply 함수에 적용할 사용자 정의함수 만들기"
   ]
  },
  {
   "cell_type": "code",
   "execution_count": 231,
   "metadata": {
    "ExecuteTime": {
     "end_time": "2022-05-23T13:40:12.147317Z",
     "start_time": "2022-05-23T13:40:12.129602Z"
    }
   },
   "outputs": [],
   "source": [
    "# 교집합 연산\n",
    "def str_compare_intersects(str1,str2):\n",
    "    s1=set(str1.split(\",\"))\n",
    "    s2=set(str2.split(\",\"))\n",
    "    intersect=list(s1&s2)\n",
    "    str_intersect=\",\".join(intersect)\n",
    "    \n",
    "    return str_intersect\n",
    "# 교집합 원소 개수\n",
    "def str_compare_intersects_counts(str1,str2):\n",
    "    s1=set(str1.split(\",\"))\n",
    "    s2=set(str2.split(\",\"))\n",
    "    intersect=list(s1&s2)\n",
    "    num_intersect=len(intersect)\n",
    "    \n",
    "    return num_intersect\n",
    "# 합집합 연산\n",
    "def str_compare_union(str1,str2):\n",
    "    s1=set(str1.split(\",\"))\n",
    "    s2=set(str2.split(\",\"))\n",
    "    union=list(s1|s2)\n",
    "    str_union=\",\".join(union)\n",
    "    \n",
    "    return str_union\n",
    "# 합집합 원소 개수\n",
    "def str_compare_union_counts(str1,str2):\n",
    "    s1=set(str1.split(\",\"))\n",
    "    s2=set(str2.split(\",\"))\n",
    "    union=list(s1|s2)\n",
    "    num_union=len(union)\n",
    "    \n",
    "    return num_union\n",
    "\n",
    "    "
   ]
  },
  {
   "cell_type": "markdown",
   "metadata": {},
   "source": [
    "## DataFrame Deepcopy"
   ]
  },
  {
   "cell_type": "code",
   "execution_count": 232,
   "metadata": {
    "ExecuteTime": {
     "end_time": "2022-05-23T13:40:13.265618Z",
     "start_time": "2022-05-23T13:40:13.257609Z"
    }
   },
   "outputs": [
    {
     "data": {
      "text/html": [
       "<div>\n",
       "<style scoped>\n",
       "    .dataframe tbody tr th:only-of-type {\n",
       "        vertical-align: middle;\n",
       "    }\n",
       "\n",
       "    .dataframe tbody tr th {\n",
       "        vertical-align: top;\n",
       "    }\n",
       "\n",
       "    .dataframe thead th {\n",
       "        text-align: right;\n",
       "    }\n",
       "</style>\n",
       "<table border=\"1\" class=\"dataframe\">\n",
       "  <thead>\n",
       "    <tr style=\"text-align: right;\">\n",
       "      <th></th>\n",
       "      <th>문서명</th>\n",
       "      <th>Data</th>\n",
       "      <th>문서명2</th>\n",
       "      <th>Data2</th>\n",
       "    </tr>\n",
       "  </thead>\n",
       "  <tbody>\n",
       "    <tr>\n",
       "      <th>0</th>\n",
       "      <td>A</td>\n",
       "      <td>이름,나이,주소,별명,연락처,이메일</td>\n",
       "      <td>A</td>\n",
       "      <td>이름,나이,주소,별명,연락처,이메일</td>\n",
       "    </tr>\n",
       "    <tr>\n",
       "      <th>1</th>\n",
       "      <td>A</td>\n",
       "      <td>이름,나이,주소,별명,연락처,이메일</td>\n",
       "      <td>B</td>\n",
       "      <td>연락처,이메일,SNS,우편번호,별명,주소,투자</td>\n",
       "    </tr>\n",
       "    <tr>\n",
       "      <th>2</th>\n",
       "      <td>A</td>\n",
       "      <td>이름,나이,주소,별명,연락처,이메일</td>\n",
       "      <td>C</td>\n",
       "      <td>이메일,연락처,SNS,우편번호,저축</td>\n",
       "    </tr>\n",
       "    <tr>\n",
       "      <th>3</th>\n",
       "      <td>B</td>\n",
       "      <td>연락처,이메일,SNS,우편번호,별명,주소,투자</td>\n",
       "      <td>A</td>\n",
       "      <td>이름,나이,주소,별명,연락처,이메일</td>\n",
       "    </tr>\n",
       "    <tr>\n",
       "      <th>4</th>\n",
       "      <td>B</td>\n",
       "      <td>연락처,이메일,SNS,우편번호,별명,주소,투자</td>\n",
       "      <td>B</td>\n",
       "      <td>연락처,이메일,SNS,우편번호,별명,주소,투자</td>\n",
       "    </tr>\n",
       "    <tr>\n",
       "      <th>5</th>\n",
       "      <td>B</td>\n",
       "      <td>연락처,이메일,SNS,우편번호,별명,주소,투자</td>\n",
       "      <td>C</td>\n",
       "      <td>이메일,연락처,SNS,우편번호,저축</td>\n",
       "    </tr>\n",
       "    <tr>\n",
       "      <th>6</th>\n",
       "      <td>C</td>\n",
       "      <td>이메일,연락처,SNS,우편번호,저축</td>\n",
       "      <td>A</td>\n",
       "      <td>이름,나이,주소,별명,연락처,이메일</td>\n",
       "    </tr>\n",
       "    <tr>\n",
       "      <th>7</th>\n",
       "      <td>C</td>\n",
       "      <td>이메일,연락처,SNS,우편번호,저축</td>\n",
       "      <td>B</td>\n",
       "      <td>연락처,이메일,SNS,우편번호,별명,주소,투자</td>\n",
       "    </tr>\n",
       "    <tr>\n",
       "      <th>8</th>\n",
       "      <td>C</td>\n",
       "      <td>이메일,연락처,SNS,우편번호,저축</td>\n",
       "      <td>C</td>\n",
       "      <td>이메일,연락처,SNS,우편번호,저축</td>\n",
       "    </tr>\n",
       "  </tbody>\n",
       "</table>\n",
       "</div>"
      ],
      "text/plain": [
       "  문서명                       Data 문서명2                      Data2\n",
       "0   A        이름,나이,주소,별명,연락처,이메일    A        이름,나이,주소,별명,연락처,이메일\n",
       "1   A        이름,나이,주소,별명,연락처,이메일    B  연락처,이메일,SNS,우편번호,별명,주소,투자\n",
       "2   A        이름,나이,주소,별명,연락처,이메일    C        이메일,연락처,SNS,우편번호,저축\n",
       "3   B  연락처,이메일,SNS,우편번호,별명,주소,투자    A        이름,나이,주소,별명,연락처,이메일\n",
       "4   B  연락처,이메일,SNS,우편번호,별명,주소,투자    B  연락처,이메일,SNS,우편번호,별명,주소,투자\n",
       "5   B  연락처,이메일,SNS,우편번호,별명,주소,투자    C        이메일,연락처,SNS,우편번호,저축\n",
       "6   C        이메일,연락처,SNS,우편번호,저축    A        이름,나이,주소,별명,연락처,이메일\n",
       "7   C        이메일,연락처,SNS,우편번호,저축    B  연락처,이메일,SNS,우편번호,별명,주소,투자\n",
       "8   C        이메일,연락처,SNS,우편번호,저축    C        이메일,연락처,SNS,우편번호,저축"
      ]
     },
     "execution_count": 232,
     "metadata": {},
     "output_type": "execute_result"
    }
   ],
   "source": [
    "df_agg_repeat2=df_agg_repeat1.copy()\n",
    "df_agg_repeat2\n",
    "\n"
   ]
  },
  {
   "cell_type": "code",
   "execution_count": 233,
   "metadata": {
    "ExecuteTime": {
     "end_time": "2022-05-23T13:40:13.499491Z",
     "start_time": "2022-05-23T13:40:13.489547Z"
    }
   },
   "outputs": [],
   "source": [
    "# str_compare_intersects(df_agg_repeat2[\"Data\"][2] ,df_agg_repeat2[\"Data2\"][2])"
   ]
  },
  {
   "cell_type": "markdown",
   "metadata": {},
   "source": [
    "## apply + lambda 활용하기"
   ]
  },
  {
   "cell_type": "markdown",
   "metadata": {},
   "source": [
    "### 소수점 자리수 지정"
   ]
  },
  {
   "cell_type": "code",
   "execution_count": 235,
   "metadata": {
    "ExecuteTime": {
     "end_time": "2022-05-23T13:40:20.568256Z",
     "start_time": "2022-05-23T13:40:20.562229Z"
    }
   },
   "outputs": [],
   "source": [
    "pd.set_option('display.precision', 6)"
   ]
  },
  {
   "cell_type": "markdown",
   "metadata": {},
   "source": [
    "### Dataframe에 apply + lambda 적용 : 사용자 정의 함수 활용"
   ]
  },
  {
   "cell_type": "code",
   "execution_count": 236,
   "metadata": {
    "ExecuteTime": {
     "end_time": "2022-05-23T13:40:20.943468Z",
     "start_time": "2022-05-23T13:40:20.921329Z"
    }
   },
   "outputs": [
    {
     "data": {
      "text/html": [
       "<div>\n",
       "<style scoped>\n",
       "    .dataframe tbody tr th:only-of-type {\n",
       "        vertical-align: middle;\n",
       "    }\n",
       "\n",
       "    .dataframe tbody tr th {\n",
       "        vertical-align: top;\n",
       "    }\n",
       "\n",
       "    .dataframe thead th {\n",
       "        text-align: right;\n",
       "    }\n",
       "</style>\n",
       "<table border=\"1\" class=\"dataframe\">\n",
       "  <thead>\n",
       "    <tr style=\"text-align: right;\">\n",
       "      <th></th>\n",
       "      <th>문서명</th>\n",
       "      <th>Data</th>\n",
       "      <th>문서명2</th>\n",
       "      <th>Data2</th>\n",
       "      <th>duplicates</th>\n",
       "      <th>intersect_counts</th>\n",
       "      <th>union_counts</th>\n",
       "      <th>similarity</th>\n",
       "      <th>union</th>\n",
       "      <th>intersects</th>\n",
       "    </tr>\n",
       "  </thead>\n",
       "  <tbody>\n",
       "    <tr>\n",
       "      <th>0</th>\n",
       "      <td>A</td>\n",
       "      <td>이름,나이,주소,별명,연락처,이메일</td>\n",
       "      <td>A</td>\n",
       "      <td>이름,나이,주소,별명,연락처,이메일</td>\n",
       "      <td>A,A</td>\n",
       "      <td>6</td>\n",
       "      <td>6</td>\n",
       "      <td>1.000000</td>\n",
       "      <td>별명,연락처,이름,주소,이메일,나이</td>\n",
       "      <td>별명,연락처,이름,주소,이메일,나이</td>\n",
       "    </tr>\n",
       "    <tr>\n",
       "      <th>1</th>\n",
       "      <td>A</td>\n",
       "      <td>이름,나이,주소,별명,연락처,이메일</td>\n",
       "      <td>B</td>\n",
       "      <td>연락처,이메일,SNS,우편번호,별명,주소,투자</td>\n",
       "      <td>A,B</td>\n",
       "      <td>4</td>\n",
       "      <td>9</td>\n",
       "      <td>0.444444</td>\n",
       "      <td>우편번호,투자,별명,연락처,SNS,이름,주소,이메일,나이</td>\n",
       "      <td>이메일,주소,별명,연락처</td>\n",
       "    </tr>\n",
       "  </tbody>\n",
       "</table>\n",
       "</div>"
      ],
      "text/plain": [
       "  문서명                 Data 문서명2                      Data2 duplicates  \\\n",
       "0   A  이름,나이,주소,별명,연락처,이메일    A        이름,나이,주소,별명,연락처,이메일        A,A   \n",
       "1   A  이름,나이,주소,별명,연락처,이메일    B  연락처,이메일,SNS,우편번호,별명,주소,투자        A,B   \n",
       "\n",
       "   intersect_counts  union_counts  similarity  \\\n",
       "0                 6             6    1.000000   \n",
       "1                 4             9    0.444444   \n",
       "\n",
       "                             union           intersects  \n",
       "0              별명,연락처,이름,주소,이메일,나이  별명,연락처,이름,주소,이메일,나이  \n",
       "1  우편번호,투자,별명,연락처,SNS,이름,주소,이메일,나이        이메일,주소,별명,연락처  "
      ]
     },
     "execution_count": 236,
     "metadata": {},
     "output_type": "execute_result"
    }
   ],
   "source": [
    "# Dataframe에 lambda 적용 : axix=1 옵션 지정 - Columns끼리 연산\n",
    "\n",
    "#1. 중복된 문서 비교 자료 제거위한 Column 추가\n",
    "df_agg_repeat2[\"duplicates\"]=df_agg_repeat2[\"문서명\"]+\",\"+df_agg_repeat2[\"문서명2\"]\n",
    "df_agg_repeat2[\"duplicates\"]=df_agg_repeat2[\"duplicates\"].apply(lambda x : \",\".join(sorted(list(x.split(\",\")))))\n",
    "#2. Data간 합집합/교집합 연산하기\n",
    "df_agg_repeat2[\"intersect_counts\"]=df_agg_repeat2.apply(lambda x : str_compare_intersects_counts(x[\"Data\"],x[\"Data2\"]),axis=1)\n",
    "df_agg_repeat2[\"union_counts\"]=df_agg_repeat2.apply(lambda x : str_compare_union_counts(x[\"Data\"],x[\"Data2\"]),axis=1)\n",
    "df_agg_repeat2[\"similarity\"]=df_agg_repeat2[\"intersect_counts\"]/df_agg_repeat2[\"union_counts\"]\n",
    "df_agg_repeat2[\"union\"]=df_agg_repeat2.apply(lambda x : str_compare_union(x[\"Data\"],x[\"Data2\"]),axis=1)\n",
    "df_agg_repeat2[\"intersects\"]=df_agg_repeat2.apply(lambda x : str_compare_intersects(x[\"Data\"],x[\"Data2\"]),axis=1)\n",
    "df_agg_repeat2.head(2)\n"
   ]
  },
  {
   "cell_type": "markdown",
   "metadata": {},
   "source": [
    "## 문자열 수정 : 쉼표 -> 줄바꿈"
   ]
  },
  {
   "cell_type": "code",
   "execution_count": 237,
   "metadata": {
    "ExecuteTime": {
     "end_time": "2022-05-23T13:40:21.315892Z",
     "start_time": "2022-05-23T13:40:21.305920Z"
    }
   },
   "outputs": [],
   "source": [
    "# 줄바꿈 : 엑셀에서 자동 줄바꿈 옵션 지정해서 줄 바꾼 형태로 바뀜"
   ]
  },
  {
   "cell_type": "code",
   "execution_count": 238,
   "metadata": {
    "ExecuteTime": {
     "end_time": "2022-05-23T13:40:21.518064Z",
     "start_time": "2022-05-23T13:40:21.506101Z"
    }
   },
   "outputs": [
    {
     "data": {
      "text/html": [
       "<div>\n",
       "<style scoped>\n",
       "    .dataframe tbody tr th:only-of-type {\n",
       "        vertical-align: middle;\n",
       "    }\n",
       "\n",
       "    .dataframe tbody tr th {\n",
       "        vertical-align: top;\n",
       "    }\n",
       "\n",
       "    .dataframe thead th {\n",
       "        text-align: right;\n",
       "    }\n",
       "</style>\n",
       "<table border=\"1\" class=\"dataframe\">\n",
       "  <thead>\n",
       "    <tr style=\"text-align: right;\">\n",
       "      <th></th>\n",
       "      <th>문서명</th>\n",
       "      <th>Data</th>\n",
       "      <th>문서명2</th>\n",
       "      <th>Data2</th>\n",
       "      <th>duplicates</th>\n",
       "      <th>intersect_counts</th>\n",
       "      <th>union_counts</th>\n",
       "      <th>similarity</th>\n",
       "      <th>union</th>\n",
       "      <th>intersects</th>\n",
       "    </tr>\n",
       "  </thead>\n",
       "  <tbody>\n",
       "    <tr>\n",
       "      <th>0</th>\n",
       "      <td>A</td>\n",
       "      <td>이름\\n나이\\n주소\\n별명\\n연락처\\n이메일</td>\n",
       "      <td>A</td>\n",
       "      <td>이름\\n나이\\n주소\\n별명\\n연락처\\n이메일</td>\n",
       "      <td>A,A</td>\n",
       "      <td>6</td>\n",
       "      <td>6</td>\n",
       "      <td>1.000000</td>\n",
       "      <td>별명\\n연락처\\n이름\\n주소\\n이메일\\n나이</td>\n",
       "      <td>별명\\n연락처\\n이름\\n주소\\n이메일\\n나이</td>\n",
       "    </tr>\n",
       "    <tr>\n",
       "      <th>1</th>\n",
       "      <td>A</td>\n",
       "      <td>이름\\n나이\\n주소\\n별명\\n연락처\\n이메일</td>\n",
       "      <td>B</td>\n",
       "      <td>연락처\\n이메일\\nSNS\\n우편번호\\n별명\\n주소\\n투자</td>\n",
       "      <td>A,B</td>\n",
       "      <td>4</td>\n",
       "      <td>9</td>\n",
       "      <td>0.444444</td>\n",
       "      <td>우편번호\\n투자\\n별명\\n연락처\\nSNS\\n이름\\n주소\\n이메일\\n나이</td>\n",
       "      <td>이메일\\n주소\\n별명\\n연락처</td>\n",
       "    </tr>\n",
       "    <tr>\n",
       "      <th>2</th>\n",
       "      <td>A</td>\n",
       "      <td>이름\\n나이\\n주소\\n별명\\n연락처\\n이메일</td>\n",
       "      <td>C</td>\n",
       "      <td>이메일\\n연락처\\nSNS\\n우편번호\\n저축</td>\n",
       "      <td>A,C</td>\n",
       "      <td>2</td>\n",
       "      <td>9</td>\n",
       "      <td>0.222222</td>\n",
       "      <td>저축\\n우편번호\\n별명\\n연락처\\nSNS\\n이름\\n주소\\n이메일\\n나이</td>\n",
       "      <td>이메일\\n연락처</td>\n",
       "    </tr>\n",
       "    <tr>\n",
       "      <th>3</th>\n",
       "      <td>B</td>\n",
       "      <td>연락처\\n이메일\\nSNS\\n우편번호\\n별명\\n주소\\n투자</td>\n",
       "      <td>A</td>\n",
       "      <td>이름\\n나이\\n주소\\n별명\\n연락처\\n이메일</td>\n",
       "      <td>A,B</td>\n",
       "      <td>4</td>\n",
       "      <td>9</td>\n",
       "      <td>0.444444</td>\n",
       "      <td>우편번호\\n투자\\n연락처\\n별명\\nSNS\\n이름\\n주소\\n이메일\\n나이</td>\n",
       "      <td>이메일\\n주소\\n별명\\n연락처</td>\n",
       "    </tr>\n",
       "    <tr>\n",
       "      <th>4</th>\n",
       "      <td>B</td>\n",
       "      <td>연락처\\n이메일\\nSNS\\n우편번호\\n별명\\n주소\\n투자</td>\n",
       "      <td>B</td>\n",
       "      <td>연락처\\n이메일\\nSNS\\n우편번호\\n별명\\n주소\\n투자</td>\n",
       "      <td>B,B</td>\n",
       "      <td>7</td>\n",
       "      <td>7</td>\n",
       "      <td>1.000000</td>\n",
       "      <td>우편번호\\n투자\\n연락처\\n별명\\nSNS\\n주소\\n이메일</td>\n",
       "      <td>이메일\\n투자\\n우편번호\\n연락처\\n별명\\n주소\\nSNS</td>\n",
       "    </tr>\n",
       "    <tr>\n",
       "      <th>5</th>\n",
       "      <td>B</td>\n",
       "      <td>연락처\\n이메일\\nSNS\\n우편번호\\n별명\\n주소\\n투자</td>\n",
       "      <td>C</td>\n",
       "      <td>이메일\\n연락처\\nSNS\\n우편번호\\n저축</td>\n",
       "      <td>B,C</td>\n",
       "      <td>4</td>\n",
       "      <td>8</td>\n",
       "      <td>0.500000</td>\n",
       "      <td>저축\\n우편번호\\n투자\\n연락처\\n별명\\nSNS\\n주소\\n이메일</td>\n",
       "      <td>SNS\\n이메일\\n우편번호\\n연락처</td>\n",
       "    </tr>\n",
       "    <tr>\n",
       "      <th>6</th>\n",
       "      <td>C</td>\n",
       "      <td>이메일\\n연락처\\nSNS\\n우편번호\\n저축</td>\n",
       "      <td>A</td>\n",
       "      <td>이름\\n나이\\n주소\\n별명\\n연락처\\n이메일</td>\n",
       "      <td>A,C</td>\n",
       "      <td>2</td>\n",
       "      <td>9</td>\n",
       "      <td>0.222222</td>\n",
       "      <td>저축\\n우편번호\\n연락처\\n별명\\nSNS\\n이름\\n주소\\n이메일\\n나이</td>\n",
       "      <td>이메일\\n연락처</td>\n",
       "    </tr>\n",
       "    <tr>\n",
       "      <th>7</th>\n",
       "      <td>C</td>\n",
       "      <td>이메일\\n연락처\\nSNS\\n우편번호\\n저축</td>\n",
       "      <td>B</td>\n",
       "      <td>연락처\\n이메일\\nSNS\\n우편번호\\n별명\\n주소\\n투자</td>\n",
       "      <td>B,C</td>\n",
       "      <td>4</td>\n",
       "      <td>8</td>\n",
       "      <td>0.500000</td>\n",
       "      <td>저축\\n우편번호\\n투자\\n연락처\\n별명\\nSNS\\n주소\\n이메일</td>\n",
       "      <td>SNS\\n이메일\\n우편번호\\n연락처</td>\n",
       "    </tr>\n",
       "    <tr>\n",
       "      <th>8</th>\n",
       "      <td>C</td>\n",
       "      <td>이메일\\n연락처\\nSNS\\n우편번호\\n저축</td>\n",
       "      <td>C</td>\n",
       "      <td>이메일\\n연락처\\nSNS\\n우편번호\\n저축</td>\n",
       "      <td>C,C</td>\n",
       "      <td>5</td>\n",
       "      <td>5</td>\n",
       "      <td>1.000000</td>\n",
       "      <td>저축\\n우편번호\\n연락처\\nSNS\\n이메일</td>\n",
       "      <td>저축\\n이메일\\n우편번호\\n연락처\\nSNS</td>\n",
       "    </tr>\n",
       "  </tbody>\n",
       "</table>\n",
       "</div>"
      ],
      "text/plain": [
       "  문서명                             Data 문서명2                            Data2  \\\n",
       "0   A         이름\\n나이\\n주소\\n별명\\n연락처\\n이메일    A         이름\\n나이\\n주소\\n별명\\n연락처\\n이메일   \n",
       "1   A         이름\\n나이\\n주소\\n별명\\n연락처\\n이메일    B  연락처\\n이메일\\nSNS\\n우편번호\\n별명\\n주소\\n투자   \n",
       "2   A         이름\\n나이\\n주소\\n별명\\n연락처\\n이메일    C          이메일\\n연락처\\nSNS\\n우편번호\\n저축   \n",
       "3   B  연락처\\n이메일\\nSNS\\n우편번호\\n별명\\n주소\\n투자    A         이름\\n나이\\n주소\\n별명\\n연락처\\n이메일   \n",
       "4   B  연락처\\n이메일\\nSNS\\n우편번호\\n별명\\n주소\\n투자    B  연락처\\n이메일\\nSNS\\n우편번호\\n별명\\n주소\\n투자   \n",
       "5   B  연락처\\n이메일\\nSNS\\n우편번호\\n별명\\n주소\\n투자    C          이메일\\n연락처\\nSNS\\n우편번호\\n저축   \n",
       "6   C          이메일\\n연락처\\nSNS\\n우편번호\\n저축    A         이름\\n나이\\n주소\\n별명\\n연락처\\n이메일   \n",
       "7   C          이메일\\n연락처\\nSNS\\n우편번호\\n저축    B  연락처\\n이메일\\nSNS\\n우편번호\\n별명\\n주소\\n투자   \n",
       "8   C          이메일\\n연락처\\nSNS\\n우편번호\\n저축    C          이메일\\n연락처\\nSNS\\n우편번호\\n저축   \n",
       "\n",
       "  duplicates  intersect_counts  union_counts  similarity  \\\n",
       "0        A,A                 6             6    1.000000   \n",
       "1        A,B                 4             9    0.444444   \n",
       "2        A,C                 2             9    0.222222   \n",
       "3        A,B                 4             9    0.444444   \n",
       "4        B,B                 7             7    1.000000   \n",
       "5        B,C                 4             8    0.500000   \n",
       "6        A,C                 2             9    0.222222   \n",
       "7        B,C                 4             8    0.500000   \n",
       "8        C,C                 5             5    1.000000   \n",
       "\n",
       "                                     union                       intersects  \n",
       "0                 별명\\n연락처\\n이름\\n주소\\n이메일\\n나이         별명\\n연락처\\n이름\\n주소\\n이메일\\n나이  \n",
       "1  우편번호\\n투자\\n별명\\n연락처\\nSNS\\n이름\\n주소\\n이메일\\n나이                 이메일\\n주소\\n별명\\n연락처  \n",
       "2  저축\\n우편번호\\n별명\\n연락처\\nSNS\\n이름\\n주소\\n이메일\\n나이                         이메일\\n연락처  \n",
       "3  우편번호\\n투자\\n연락처\\n별명\\nSNS\\n이름\\n주소\\n이메일\\n나이                 이메일\\n주소\\n별명\\n연락처  \n",
       "4          우편번호\\n투자\\n연락처\\n별명\\nSNS\\n주소\\n이메일  이메일\\n투자\\n우편번호\\n연락처\\n별명\\n주소\\nSNS  \n",
       "5      저축\\n우편번호\\n투자\\n연락처\\n별명\\nSNS\\n주소\\n이메일              SNS\\n이메일\\n우편번호\\n연락처  \n",
       "6  저축\\n우편번호\\n연락처\\n별명\\nSNS\\n이름\\n주소\\n이메일\\n나이                         이메일\\n연락처  \n",
       "7      저축\\n우편번호\\n투자\\n연락처\\n별명\\nSNS\\n주소\\n이메일              SNS\\n이메일\\n우편번호\\n연락처  \n",
       "8                  저축\\n우편번호\\n연락처\\nSNS\\n이메일          저축\\n이메일\\n우편번호\\n연락처\\nSNS  "
      ]
     },
     "execution_count": 238,
     "metadata": {},
     "output_type": "execute_result"
    }
   ],
   "source": [
    "df_agg_repeat2[\"Data\"]=df_agg_repeat2[\"Data\"].apply(lambda x : x.replace(\",\",\"\\n\"))\n",
    "df_agg_repeat2[\"Data2\"]=df_agg_repeat2[\"Data2\"].apply(lambda x : x.replace(\",\",\"\\n\"))\n",
    "df_agg_repeat2[\"union\"]=df_agg_repeat2[\"union\"].apply(lambda x : x.replace(\",\",\"\\n\"))\n",
    "df_agg_repeat2[\"intersects\"]=df_agg_repeat2[\"intersects\"].apply(lambda x : x.replace(\",\",\"\\n\"))\n",
    "df_agg_repeat2"
   ]
  },
  {
   "cell_type": "markdown",
   "metadata": {},
   "source": [
    "## 비교 결과중 중복된 결과 제거하기"
   ]
  },
  {
   "cell_type": "code",
   "execution_count": 239,
   "metadata": {
    "ExecuteTime": {
     "end_time": "2022-05-23T13:40:21.953025Z",
     "start_time": "2022-05-23T13:40:21.938066Z"
    }
   },
   "outputs": [
    {
     "data": {
      "text/html": [
       "<div>\n",
       "<style scoped>\n",
       "    .dataframe tbody tr th:only-of-type {\n",
       "        vertical-align: middle;\n",
       "    }\n",
       "\n",
       "    .dataframe tbody tr th {\n",
       "        vertical-align: top;\n",
       "    }\n",
       "\n",
       "    .dataframe thead th {\n",
       "        text-align: right;\n",
       "    }\n",
       "</style>\n",
       "<table border=\"1\" class=\"dataframe\">\n",
       "  <thead>\n",
       "    <tr style=\"text-align: right;\">\n",
       "      <th></th>\n",
       "      <th>문서명</th>\n",
       "      <th>Data</th>\n",
       "      <th>문서명2</th>\n",
       "      <th>Data2</th>\n",
       "      <th>duplicates</th>\n",
       "      <th>intersect_counts</th>\n",
       "      <th>union_counts</th>\n",
       "      <th>similarity</th>\n",
       "      <th>union</th>\n",
       "      <th>intersects</th>\n",
       "    </tr>\n",
       "  </thead>\n",
       "  <tbody>\n",
       "    <tr>\n",
       "      <th>0</th>\n",
       "      <td>A</td>\n",
       "      <td>이름\\n나이\\n주소\\n별명\\n연락처\\n이메일</td>\n",
       "      <td>A</td>\n",
       "      <td>이름\\n나이\\n주소\\n별명\\n연락처\\n이메일</td>\n",
       "      <td>A,A</td>\n",
       "      <td>6</td>\n",
       "      <td>6</td>\n",
       "      <td>1.000000</td>\n",
       "      <td>별명\\n연락처\\n이름\\n주소\\n이메일\\n나이</td>\n",
       "      <td>별명\\n연락처\\n이름\\n주소\\n이메일\\n나이</td>\n",
       "    </tr>\n",
       "    <tr>\n",
       "      <th>1</th>\n",
       "      <td>A</td>\n",
       "      <td>이름\\n나이\\n주소\\n별명\\n연락처\\n이메일</td>\n",
       "      <td>B</td>\n",
       "      <td>연락처\\n이메일\\nSNS\\n우편번호\\n별명\\n주소\\n투자</td>\n",
       "      <td>A,B</td>\n",
       "      <td>4</td>\n",
       "      <td>9</td>\n",
       "      <td>0.444444</td>\n",
       "      <td>우편번호\\n투자\\n별명\\n연락처\\nSNS\\n이름\\n주소\\n이메일\\n나이</td>\n",
       "      <td>이메일\\n주소\\n별명\\n연락처</td>\n",
       "    </tr>\n",
       "  </tbody>\n",
       "</table>\n",
       "</div>"
      ],
      "text/plain": [
       "  문서명                      Data 문서명2                            Data2  \\\n",
       "0   A  이름\\n나이\\n주소\\n별명\\n연락처\\n이메일    A         이름\\n나이\\n주소\\n별명\\n연락처\\n이메일   \n",
       "1   A  이름\\n나이\\n주소\\n별명\\n연락처\\n이메일    B  연락처\\n이메일\\nSNS\\n우편번호\\n별명\\n주소\\n투자   \n",
       "\n",
       "  duplicates  intersect_counts  union_counts  similarity  \\\n",
       "0        A,A                 6             6    1.000000   \n",
       "1        A,B                 4             9    0.444444   \n",
       "\n",
       "                                     union                intersects  \n",
       "0                 별명\\n연락처\\n이름\\n주소\\n이메일\\n나이  별명\\n연락처\\n이름\\n주소\\n이메일\\n나이  \n",
       "1  우편번호\\n투자\\n별명\\n연락처\\nSNS\\n이름\\n주소\\n이메일\\n나이          이메일\\n주소\\n별명\\n연락처  "
      ]
     },
     "execution_count": 239,
     "metadata": {},
     "output_type": "execute_result"
    }
   ],
   "source": [
    "df_agg_result_for_listup=df_agg_repeat2.drop_duplicates([\"duplicates\"],keep=\"first\") # 중복행 삭제, 중복 값중 첫번째 값만 남김\n",
    "df_agg_result_for_listup.reset_index(drop=True,inplace=True) # 기존의 인덱스열 drop\n",
    "df_agg_result_for_listup.head(2)"
   ]
  },
  {
   "cell_type": "markdown",
   "metadata": {
    "ExecuteTime": {
     "end_time": "2022-05-23T12:37:17.844462Z",
     "start_time": "2022-05-23T12:37:17.831506Z"
    }
   },
   "source": [
    "## CrossTable 집계하기"
   ]
  },
  {
   "cell_type": "code",
   "execution_count": 240,
   "metadata": {
    "ExecuteTime": {
     "end_time": "2022-05-23T13:40:22.511586Z",
     "start_time": "2022-05-23T13:40:22.497657Z"
    }
   },
   "outputs": [],
   "source": [
    "pd.set_option('display.precision', 4)"
   ]
  },
  {
   "cell_type": "code",
   "execution_count": 241,
   "metadata": {
    "ExecuteTime": {
     "end_time": "2022-05-23T13:40:22.873005Z",
     "start_time": "2022-05-23T13:40:22.848847Z"
    }
   },
   "outputs": [
    {
     "data": {
      "text/html": [
       "<div>\n",
       "<style scoped>\n",
       "    .dataframe tbody tr th:only-of-type {\n",
       "        vertical-align: middle;\n",
       "    }\n",
       "\n",
       "    .dataframe tbody tr th {\n",
       "        vertical-align: top;\n",
       "    }\n",
       "\n",
       "    .dataframe thead th {\n",
       "        text-align: right;\n",
       "    }\n",
       "</style>\n",
       "<table border=\"1\" class=\"dataframe\">\n",
       "  <thead>\n",
       "    <tr style=\"text-align: right;\">\n",
       "      <th>문서명2</th>\n",
       "      <th>A</th>\n",
       "      <th>B</th>\n",
       "      <th>C</th>\n",
       "    </tr>\n",
       "    <tr>\n",
       "      <th>문서명</th>\n",
       "      <th></th>\n",
       "      <th></th>\n",
       "      <th></th>\n",
       "    </tr>\n",
       "  </thead>\n",
       "  <tbody>\n",
       "    <tr>\n",
       "      <th>A</th>\n",
       "      <td>1.0000</td>\n",
       "      <td>0.4444</td>\n",
       "      <td>0.2222</td>\n",
       "    </tr>\n",
       "    <tr>\n",
       "      <th>B</th>\n",
       "      <td>0.4444</td>\n",
       "      <td>1.0000</td>\n",
       "      <td>0.5000</td>\n",
       "    </tr>\n",
       "    <tr>\n",
       "      <th>C</th>\n",
       "      <td>0.2222</td>\n",
       "      <td>0.5000</td>\n",
       "      <td>1.0000</td>\n",
       "    </tr>\n",
       "  </tbody>\n",
       "</table>\n",
       "</div>"
      ],
      "text/plain": [
       "문서명2       A       B       C\n",
       "문서명                         \n",
       "A     1.0000  0.4444  0.2222\n",
       "B     0.4444  1.0000  0.5000\n",
       "C     0.2222  0.5000  1.0000"
      ]
     },
     "execution_count": 241,
     "metadata": {},
     "output_type": "execute_result"
    }
   ],
   "source": [
    "df_result=df_agg_repeat2[[\"문서명\",\"문서명2\",\"similarity\"]]\n",
    "# Matrix형태로 Data저장하기\n",
    "df_matrix=pd.crosstab(df_result[\"문서명\"],df_result[\"문서명2\"],values=df_result[\"similarity\"],aggfunc=np.sum)\n",
    "df_matrix"
   ]
  },
  {
   "cell_type": "markdown",
   "metadata": {},
   "source": [
    "## 결과 저장하기"
   ]
  },
  {
   "cell_type": "code",
   "execution_count": 242,
   "metadata": {
    "ExecuteTime": {
     "end_time": "2022-05-23T13:40:24.069359Z",
     "start_time": "2022-05-23T13:40:24.058418Z"
    }
   },
   "outputs": [],
   "source": [
    "writer=pd.ExcelWriter(\"./jacc_result_r2.xlsx\")"
   ]
  },
  {
   "cell_type": "code",
   "execution_count": 243,
   "metadata": {
    "ExecuteTime": {
     "end_time": "2022-05-23T13:40:24.255320Z",
     "start_time": "2022-05-23T13:40:24.209454Z"
    }
   },
   "outputs": [],
   "source": [
    "df_agg_result_for_listup.to_excel(writer,sheet_name=\"sheet1\")\n",
    "df_matrix.to_excel(writer,sheet_name=\"sheet2\")\n",
    "writer.save()"
   ]
  },
  {
   "cell_type": "code",
   "execution_count": null,
   "metadata": {},
   "outputs": [],
   "source": []
  },
  {
   "cell_type": "code",
   "execution_count": null,
   "metadata": {},
   "outputs": [],
   "source": []
  }
 ],
 "metadata": {
  "kernelspec": {
   "display_name": "Python 3",
   "language": "python",
   "name": "python3"
  },
  "language_info": {
   "codemirror_mode": {
    "name": "ipython",
    "version": 3
   },
   "file_extension": ".py",
   "mimetype": "text/x-python",
   "name": "python",
   "nbconvert_exporter": "python",
   "pygments_lexer": "ipython3",
   "version": "3.8.5"
  },
  "toc": {
   "base_numbering": 1,
   "nav_menu": {},
   "number_sections": true,
   "sideBar": true,
   "skip_h1_title": false,
   "title_cell": "Table of Contents",
   "title_sidebar": "Contents",
   "toc_cell": false,
   "toc_position": {
    "height": "calc(100% - 180px)",
    "left": "10px",
    "top": "150px",
    "width": "384px"
   },
   "toc_section_display": true,
   "toc_window_display": true
  },
  "varInspector": {
   "cols": {
    "lenName": 16,
    "lenType": 16,
    "lenVar": 40
   },
   "kernels_config": {
    "python": {
     "delete_cmd_postfix": "",
     "delete_cmd_prefix": "del ",
     "library": "var_list.py",
     "varRefreshCmd": "print(var_dic_list())"
    },
    "r": {
     "delete_cmd_postfix": ") ",
     "delete_cmd_prefix": "rm(",
     "library": "var_list.r",
     "varRefreshCmd": "cat(var_dic_list()) "
    }
   },
   "types_to_exclude": [
    "module",
    "function",
    "builtin_function_or_method",
    "instance",
    "_Feature"
   ],
   "window_display": false
  }
 },
 "nbformat": 4,
 "nbformat_minor": 4
}
