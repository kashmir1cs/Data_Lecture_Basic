{
 "cells": [
  {
   "cell_type": "markdown",
   "metadata": {},
   "source": [
    "# 배관 공사 플랫폼 설문 응답 분석 (주관식 문항)"
   ]
  },
  {
   "cell_type": "code",
   "execution_count": 1,
   "metadata": {
    "ExecuteTime": {
     "end_time": "2021-01-23T12:34:08.691491Z",
     "start_time": "2021-01-23T12:34:02.785590Z"
    }
   },
   "outputs": [],
   "source": [
    "# 파이썬 Library Load\n",
    "import pandas as pd\n",
    "import numpy as np\n",
    "import PowerXlwings as px\n",
    "from konlpy.tag import Twitter\n",
    "import ckonlpy"
   ]
  },
  {
   "cell_type": "code",
   "execution_count": 48,
   "metadata": {
    "ExecuteTime": {
     "end_time": "2021-01-23T13:01:26.533625Z",
     "start_time": "2021-01-23T13:01:26.522624Z"
    }
   },
   "outputs": [],
   "source": [
    "import matplotlib.pyplot as plt\n",
    "import seaborn as sns\n",
    "import matplotlib.font_manager as fm\n",
    "import matplotlib as mpl\n",
    "# 한글 폰트 적용\n",
    "plt.rc('font', family='Malgun Gothic')\n",
    "mpl.rcParams['axes.unicode_minus'] = False\n",
    "%matplotlib inline"
   ]
  },
  {
   "cell_type": "code",
   "execution_count": 101,
   "metadata": {
    "ExecuteTime": {
     "end_time": "2021-01-23T13:47:36.490506Z",
     "start_time": "2021-01-23T13:47:36.457504Z"
    }
   },
   "outputs": [
    {
     "name": "stderr",
     "output_type": "stream",
     "text": [
      "C:\\Users\\SEOL\\anaconda3\\envs\\ts\\lib\\site-packages\\konlpy\\tag\\_okt.py:16: UserWarning: \"Twitter\" has changed to \"Okt\" since KoNLPy v0.4.5.\n",
      "  warn('\"Twitter\" has changed to \"Okt\" since KoNLPy v0.4.5.')\n"
     ]
    }
   ],
   "source": [
    "from konlpy.tag import Hannanum\n",
    "from konlpy.tag import Twitter\n",
    "from konlpy.tag import Kkma\n",
    "hannanum=Hannanum()\n",
    "twitter=Twitter()\n",
    "kkma = Kkma()"
   ]
  },
  {
   "cell_type": "code",
   "execution_count": 2,
   "metadata": {
    "ExecuteTime": {
     "end_time": "2021-01-23T12:34:31.492352Z",
     "start_time": "2021-01-23T12:34:22.067690Z"
    }
   },
   "outputs": [
    {
     "name": "stdout",
     "output_type": "stream",
     "text": [
      "C:/Users/SEOL/Desktop/PYJ/인강실습자료_파이썬_LDA.xlsx\n"
     ]
    }
   ],
   "source": [
    "# 파일 불러오기\n",
    "excel_file=px.get()\n",
    "print(excel_file)"
   ]
  },
  {
   "cell_type": "markdown",
   "metadata": {},
   "source": [
    "# 설문 조사 자료 전처리 "
   ]
  },
  {
   "cell_type": "markdown",
   "metadata": {
    "ExecuteTime": {
     "end_time": "2021-01-23T12:38:28.926742Z",
     "start_time": "2021-01-23T12:38:28.910142Z"
    }
   },
   "source": [
    "## Data 구조 탐색"
   ]
  },
  {
   "cell_type": "code",
   "execution_count": 3,
   "metadata": {
    "ExecuteTime": {
     "end_time": "2021-01-23T12:34:35.781623Z",
     "start_time": "2021-01-23T12:34:33.578196Z"
    }
   },
   "outputs": [],
   "source": [
    "df=px.setpd(wb=excel_file,sheet='설문결과정리',rng='A3',expand=True)"
   ]
  },
  {
   "cell_type": "code",
   "execution_count": 4,
   "metadata": {
    "ExecuteTime": {
     "end_time": "2021-01-23T12:34:45.340940Z",
     "start_time": "2021-01-23T12:34:45.296739Z"
    }
   },
   "outputs": [
    {
     "name": "stdout",
     "output_type": "stream",
     "text": [
      "<class 'pandas.core.frame.DataFrame'>\n",
      "RangeIndex: 45 entries, 0 to 44\n",
      "Data columns (total 96 columns):\n",
      " #   Column            Non-Null Count  Dtype  \n",
      "---  ------            --------------  -----  \n",
      " 0   No.               45 non-null     float64\n",
      " 1   이름                45 non-null     object \n",
      " 2   설문 송부             45 non-null     object \n",
      " 3   회신 여부             45 non-null     object \n",
      " 4   작성율               45 non-null     float64\n",
      " 5   직급/직책             45 non-null     object \n",
      " 6   Dept.             45 non-null     object \n",
      " 7   Pjt               45 non-null     object \n",
      " 8   직무경력_FCM          2 non-null      object \n",
      " 9   직무경력_FCE          11 non-null     object \n",
      " 10  직무경력_SI           18 non-null     object \n",
      " 11  직무경력_SV           38 non-null     object \n",
      " 12  직무경력_기타           3 non-null      object \n",
      " 13  상품경력_산업           16 non-null     float64\n",
      " 14  상품경력_환경           34 non-null     float64\n",
      " 15  상품경력_화공           14 non-null     float64\n",
      " 16  상품경력_기타           10 non-null     float64\n",
      " 17  자재승인요청_시간         29 non-null     float64\n",
      " 18  자재승인요청_주기         30 non-null     object \n",
      " 19  자재승인요청_필요         32 non-null     float64\n",
      " 20  자재승인요청_필요항목       29 non-null     object \n",
      " 21  자재승인요청_가능성        30 non-null     float64\n",
      " 22  자재승인요청_가능성이유      30 non-null     object \n",
      " 23  공정회의_시간           34 non-null     float64\n",
      " 24  공정회의_주기           34 non-null     object \n",
      " 25  공정회의_필요           34 non-null     float64\n",
      " 26  공정회의_필요항목         29 non-null     object \n",
      " 27  공정회의_가능성          34 non-null     float64\n",
      " 28  공정회의_가능성이유        31 non-null     object \n",
      " 29  지급자재_시간           31 non-null     float64\n",
      " 30  지급자재_주기           31 non-null     object \n",
      " 31  지급자재_필요           34 non-null     float64\n",
      " 32  지급자재_필요항목         32 non-null     object \n",
      " 33  지급자재_가능성          31 non-null     float64\n",
      " 34  지급자재_가능성이유        30 non-null     object \n",
      " 35  배관용접_시간           34 non-null     float64\n",
      " 36  배관용접_주기           33 non-null     object \n",
      " 37  배관용접_필요           37 non-null     float64\n",
      " 38  배관용접_필요항목         31 non-null     object \n",
      " 39  배관용접_가능성          36 non-null     float64\n",
      " 40  배관용접_가능성이유        35 non-null     object \n",
      " 41  기수압_시간            35 non-null     float64\n",
      " 42  기수압_주기            35 non-null     object \n",
      " 43  기수압_필요            39 non-null     float64\n",
      " 44  기수압_필요항목          36 non-null     object \n",
      " 45  기수압_가능성           38 non-null     float64\n",
      " 46  기수압_가능성이유         36 non-null     object \n",
      " 47  SPOOL&SKID_시간     30 non-null     float64\n",
      " 48  SPOOL&SKID_주기     30 non-null     object \n",
      " 49  SPOOL&SKID_필요     32 non-null     float64\n",
      " 50  SPOOL&SKID_필요항목   30 non-null     object \n",
      " 51  SPOOL&SKID_가능성    30 non-null     float64\n",
      " 52  SPOOL&SKID_가능성이유  29 non-null     object \n",
      " 53  배관설치검사_시간         36 non-null     float64\n",
      " 54  배관설치검사_주기         36 non-null     object \n",
      " 55  배관설치검사_필요         37 non-null     float64\n",
      " 56  배관설치검사_필요항목       30 non-null     object \n",
      " 57  배관설치검사_가능성        35 non-null     float64\n",
      " 58  배관설치검사_가능성이유      33 non-null     object \n",
      " 59  작업지시서_시간          38 non-null     float64\n",
      " 60  작업지시서_주기          38 non-null     object \n",
      " 61  작업지시서_필요          38 non-null     float64\n",
      " 62  작업지시서_필요항목        30 non-null     object \n",
      " 63  작업지시서_가능성         37 non-null     float64\n",
      " 64  작업지시서_가능성이유       33 non-null     object \n",
      " 65  대갑정산_시간           31 non-null     float64\n",
      " 66  대갑정산_주기           31 non-null     object \n",
      " 67  대갑정산_필요           32 non-null     float64\n",
      " 68  대갑정산_필요항목         27 non-null     object \n",
      " 69  대갑정산_가능성          29 non-null     float64\n",
      " 70  대갑정산_가능성이유        28 non-null     object \n",
      " 71  설계변경_시간           30 non-null     float64\n",
      " 72  설계변경_주기           30 non-null     object \n",
      " 73  설계변경_필요           31 non-null     float64\n",
      " 74  설계변경_필요항목         26 non-null     object \n",
      " 75  설계변경_가능성          29 non-null     float64\n",
      " 76  설계변경_가능성이유        26 non-null     object \n",
      " 77  ASBUILT_중요도       35 non-null     float64\n",
      " 78  ASBUILT_중요이유      32 non-null     object \n",
      " 79  ASBUILT_시스템화      31 non-null     object \n",
      " 80  ASBUILT_가능성       34 non-null     float64\n",
      " 81  ASBUILT_가능성이유     27 non-null     object \n",
      " 82  SHOP도면_중요도        33 non-null     float64\n",
      " 83  SHOP도면_중요이유       30 non-null     object \n",
      " 84  SHOP도면_시스템화       29 non-null     object \n",
      " 85  SHOP도면_가능성        31 non-null     float64\n",
      " 86  SHOP도면_가능성이유      27 non-null     object \n",
      " 87  기타업무_개선필요         15 non-null     object \n",
      " 88  기타업무_시간           13 non-null     float64\n",
      " 89  기타업무_주기           13 non-null     object \n",
      " 90  기타업무_가능성          14 non-null     float64\n",
      " 91  기타업무_가능성이유        11 non-null     object \n",
      " 92  자유질문_AI도입         21 non-null     object \n",
      " 93  자유질문_AI이유         20 non-null     object \n",
      " 94  자유질문_의사결정         12 non-null     object \n",
      " 95  자유질문_의사결정이유       12 non-null     object \n",
      "dtypes: float64(42), object(54)\n",
      "memory usage: 33.9+ KB\n"
     ]
    }
   ],
   "source": [
    "df.info()"
   ]
  },
  {
   "cell_type": "code",
   "execution_count": 8,
   "metadata": {
    "ExecuteTime": {
     "end_time": "2021-01-23T12:35:35.649334Z",
     "start_time": "2021-01-23T12:35:35.559130Z"
    }
   },
   "outputs": [
    {
     "name": "stdout",
     "output_type": "stream",
     "text": [
      "<class 'pandas.core.frame.DataFrame'>\n",
      "RangeIndex: 45 entries, 0 to 44\n",
      "Data columns (total 16 columns):\n",
      " #   Column    Non-Null Count  Dtype  \n",
      "---  ------    --------------  -----  \n",
      " 0   No.       45 non-null     float64\n",
      " 1   이름        45 non-null     object \n",
      " 2   설문 송부     45 non-null     object \n",
      " 3   회신 여부     45 non-null     object \n",
      " 4   작성율       45 non-null     float64\n",
      " 5   직급/직책     45 non-null     object \n",
      " 6   Dept.     45 non-null     object \n",
      " 7   Pjt       45 non-null     object \n",
      " 8   직무경력_FCM  2 non-null      object \n",
      " 9   직무경력_FCE  11 non-null     object \n",
      " 10  직무경력_SI   18 non-null     object \n",
      " 11  직무경력_SV   38 non-null     object \n",
      " 12  직무경력_기타   3 non-null      object \n",
      " 13  상품경력_산업   16 non-null     float64\n",
      " 14  상품경력_환경   34 non-null     float64\n",
      " 15  상품경력_화공   14 non-null     float64\n",
      "dtypes: float64(5), object(11)\n",
      "memory usage: 5.8+ KB\n"
     ]
    },
    {
     "data": {
      "text/html": [
       "<div>\n",
       "<style scoped>\n",
       "    .dataframe tbody tr th:only-of-type {\n",
       "        vertical-align: middle;\n",
       "    }\n",
       "\n",
       "    .dataframe tbody tr th {\n",
       "        vertical-align: top;\n",
       "    }\n",
       "\n",
       "    .dataframe thead th {\n",
       "        text-align: right;\n",
       "    }\n",
       "</style>\n",
       "<table border=\"1\" class=\"dataframe\">\n",
       "  <thead>\n",
       "    <tr style=\"text-align: right;\">\n",
       "      <th></th>\n",
       "      <th>No.</th>\n",
       "      <th>이름</th>\n",
       "      <th>설문 송부</th>\n",
       "      <th>회신 여부</th>\n",
       "      <th>작성율</th>\n",
       "      <th>직급/직책</th>\n",
       "      <th>Dept.</th>\n",
       "      <th>Pjt</th>\n",
       "      <th>직무경력_FCM</th>\n",
       "      <th>직무경력_FCE</th>\n",
       "      <th>직무경력_SI</th>\n",
       "      <th>직무경력_SV</th>\n",
       "      <th>직무경력_기타</th>\n",
       "      <th>상품경력_산업</th>\n",
       "      <th>상품경력_환경</th>\n",
       "      <th>상품경력_화공</th>\n",
       "    </tr>\n",
       "  </thead>\n",
       "  <tbody>\n",
       "    <tr>\n",
       "      <th>0</th>\n",
       "      <td>2.0</td>\n",
       "      <td>서영민</td>\n",
       "      <td>최초</td>\n",
       "      <td>O</td>\n",
       "      <td>0.810127</td>\n",
       "      <td>SI</td>\n",
       "      <td>산업</td>\n",
       "      <td>평택 Linde ASU</td>\n",
       "      <td>None</td>\n",
       "      <td>None</td>\n",
       "      <td>5~10년</td>\n",
       "      <td>None</td>\n",
       "      <td>None</td>\n",
       "      <td>4.0</td>\n",
       "      <td>NaN</td>\n",
       "      <td>10.0</td>\n",
       "    </tr>\n",
       "    <tr>\n",
       "      <th>1</th>\n",
       "      <td>12.0</td>\n",
       "      <td>방기동</td>\n",
       "      <td>최초</td>\n",
       "      <td>O</td>\n",
       "      <td>0.936709</td>\n",
       "      <td>SV</td>\n",
       "      <td>산업</td>\n",
       "      <td>탕정 A2/A3 PJT</td>\n",
       "      <td>None</td>\n",
       "      <td>None</td>\n",
       "      <td>None</td>\n",
       "      <td>5~10년</td>\n",
       "      <td>None</td>\n",
       "      <td>8.0</td>\n",
       "      <td>NaN</td>\n",
       "      <td>NaN</td>\n",
       "    </tr>\n",
       "    <tr>\n",
       "      <th>2</th>\n",
       "      <td>15.0</td>\n",
       "      <td>유형찬</td>\n",
       "      <td>최초</td>\n",
       "      <td>O</td>\n",
       "      <td>1.000000</td>\n",
       "      <td>SV</td>\n",
       "      <td>산업</td>\n",
       "      <td>탕정 C-PJT</td>\n",
       "      <td>None</td>\n",
       "      <td>5년 미만</td>\n",
       "      <td>None</td>\n",
       "      <td>5~10년</td>\n",
       "      <td>None</td>\n",
       "      <td>11.0</td>\n",
       "      <td>NaN</td>\n",
       "      <td>NaN</td>\n",
       "    </tr>\n",
       "    <tr>\n",
       "      <th>3</th>\n",
       "      <td>23.0</td>\n",
       "      <td>홍성민</td>\n",
       "      <td>최초</td>\n",
       "      <td>O</td>\n",
       "      <td>0.873418</td>\n",
       "      <td>SV</td>\n",
       "      <td>산업</td>\n",
       "      <td>중국 천진법인 제2공장 증설공사</td>\n",
       "      <td>None</td>\n",
       "      <td>None</td>\n",
       "      <td>None</td>\n",
       "      <td>5~10년</td>\n",
       "      <td>None</td>\n",
       "      <td>6.0</td>\n",
       "      <td>NaN</td>\n",
       "      <td>NaN</td>\n",
       "    </tr>\n",
       "    <tr>\n",
       "      <th>4</th>\n",
       "      <td>26.0</td>\n",
       "      <td>김동경</td>\n",
       "      <td>최초</td>\n",
       "      <td>O</td>\n",
       "      <td>0.835443</td>\n",
       "      <td>SI</td>\n",
       "      <td>산업</td>\n",
       "      <td>헝가리 SDI</td>\n",
       "      <td>None</td>\n",
       "      <td>None</td>\n",
       "      <td>5~10년</td>\n",
       "      <td>10~15년</td>\n",
       "      <td>None</td>\n",
       "      <td>22.0</td>\n",
       "      <td>3.0</td>\n",
       "      <td>NaN</td>\n",
       "    </tr>\n",
       "  </tbody>\n",
       "</table>\n",
       "</div>"
      ],
      "text/plain": [
       "    No.   이름 설문 송부 회신 여부       작성율 직급/직책 Dept.                Pjt 직무경력_FCM  \\\n",
       "0   2.0  서영민    최초     O  0.810127    SI    산업       평택 Linde ASU     None   \n",
       "1  12.0  방기동    최초     O  0.936709    SV    산업       탕정 A2/A3 PJT     None   \n",
       "2  15.0  유형찬    최초     O  1.000000    SV    산업           탕정 C-PJT     None   \n",
       "3  23.0  홍성민    최초     O  0.873418    SV    산업  중국 천진법인 제2공장 증설공사     None   \n",
       "4  26.0  김동경    최초     O  0.835443    SI    산업            헝가리 SDI     None   \n",
       "\n",
       "  직무경력_FCE 직무경력_SI 직무경력_SV 직무경력_기타  상품경력_산업  상품경력_환경  상품경력_화공  \n",
       "0     None   5~10년    None    None      4.0      NaN     10.0  \n",
       "1     None    None   5~10년    None      8.0      NaN      NaN  \n",
       "2    5년 미만    None   5~10년    None     11.0      NaN      NaN  \n",
       "3     None    None   5~10년    None      6.0      NaN      NaN  \n",
       "4     None   5~10년  10~15년    None     22.0      3.0      NaN  "
      ]
     },
     "execution_count": 8,
     "metadata": {},
     "output_type": "execute_result"
    }
   ],
   "source": [
    "df_basic=df.iloc[:,0:16]\n",
    "df_basic.info()\n",
    "df_basic.head()"
   ]
  },
  {
   "cell_type": "code",
   "execution_count": 13,
   "metadata": {
    "ExecuteTime": {
     "end_time": "2021-01-23T12:36:46.324075Z",
     "start_time": "2021-01-23T12:36:46.267874Z"
    }
   },
   "outputs": [
    {
     "data": {
      "text/html": [
       "<div>\n",
       "<style scoped>\n",
       "    .dataframe tbody tr th:only-of-type {\n",
       "        vertical-align: middle;\n",
       "    }\n",
       "\n",
       "    .dataframe tbody tr th {\n",
       "        vertical-align: top;\n",
       "    }\n",
       "\n",
       "    .dataframe thead th {\n",
       "        text-align: right;\n",
       "    }\n",
       "</style>\n",
       "<table border=\"1\" class=\"dataframe\">\n",
       "  <thead>\n",
       "    <tr style=\"text-align: right;\">\n",
       "      <th></th>\n",
       "      <th>이름</th>\n",
       "      <th>설문 송부</th>\n",
       "      <th>회신 여부</th>\n",
       "      <th>작성율</th>\n",
       "      <th>직급/직책</th>\n",
       "      <th>Dept.</th>\n",
       "      <th>Pjt</th>\n",
       "      <th>직무경력_FCM</th>\n",
       "      <th>직무경력_FCE</th>\n",
       "      <th>직무경력_SI</th>\n",
       "      <th>직무경력_SV</th>\n",
       "      <th>직무경력_기타</th>\n",
       "      <th>상품경력_산업</th>\n",
       "      <th>상품경력_환경</th>\n",
       "      <th>상품경력_화공</th>\n",
       "    </tr>\n",
       "  </thead>\n",
       "  <tbody>\n",
       "    <tr>\n",
       "      <th>40</th>\n",
       "      <td>이석준</td>\n",
       "      <td>추가</td>\n",
       "      <td>O</td>\n",
       "      <td>0.291139</td>\n",
       "      <td>SV</td>\n",
       "      <td>환경</td>\n",
       "      <td>전자 P2-PJT 초순수</td>\n",
       "      <td>None</td>\n",
       "      <td>None</td>\n",
       "      <td>5년 미만</td>\n",
       "      <td>5~10년</td>\n",
       "      <td>None</td>\n",
       "      <td>NaN</td>\n",
       "      <td>2.0</td>\n",
       "      <td>12.0</td>\n",
       "    </tr>\n",
       "    <tr>\n",
       "      <th>41</th>\n",
       "      <td>이승철</td>\n",
       "      <td>추가</td>\n",
       "      <td>O</td>\n",
       "      <td>0.329114</td>\n",
       "      <td>SV</td>\n",
       "      <td>환경</td>\n",
       "      <td>전자 P2-PJT 초순수</td>\n",
       "      <td>None</td>\n",
       "      <td>None</td>\n",
       "      <td>None</td>\n",
       "      <td>5~10년</td>\n",
       "      <td>None</td>\n",
       "      <td>NaN</td>\n",
       "      <td>5.0</td>\n",
       "      <td>NaN</td>\n",
       "    </tr>\n",
       "    <tr>\n",
       "      <th>42</th>\n",
       "      <td>장덕진</td>\n",
       "      <td>추가</td>\n",
       "      <td>O</td>\n",
       "      <td>0.291139</td>\n",
       "      <td>SV</td>\n",
       "      <td>환경</td>\n",
       "      <td>전자 P2-PJT 초순수</td>\n",
       "      <td>None</td>\n",
       "      <td>None</td>\n",
       "      <td>None</td>\n",
       "      <td>5년 미만</td>\n",
       "      <td>None</td>\n",
       "      <td>NaN</td>\n",
       "      <td>1.5</td>\n",
       "      <td>NaN</td>\n",
       "    </tr>\n",
       "    <tr>\n",
       "      <th>43</th>\n",
       "      <td>조재영</td>\n",
       "      <td>추가</td>\n",
       "      <td>O</td>\n",
       "      <td>0.189873</td>\n",
       "      <td>SV</td>\n",
       "      <td>환경</td>\n",
       "      <td>전자 P2-PJT 초순수</td>\n",
       "      <td>None</td>\n",
       "      <td>None</td>\n",
       "      <td>None</td>\n",
       "      <td>5~10년</td>\n",
       "      <td>None</td>\n",
       "      <td>NaN</td>\n",
       "      <td>9.6</td>\n",
       "      <td>NaN</td>\n",
       "    </tr>\n",
       "    <tr>\n",
       "      <th>44</th>\n",
       "      <td>천상진</td>\n",
       "      <td>추가</td>\n",
       "      <td>O</td>\n",
       "      <td>0.924051</td>\n",
       "      <td>SI</td>\n",
       "      <td>산업</td>\n",
       "      <td>헝가리 SDI</td>\n",
       "      <td>None</td>\n",
       "      <td>None</td>\n",
       "      <td>5년 미만</td>\n",
       "      <td>20년 이상</td>\n",
       "      <td>None</td>\n",
       "      <td>5.0</td>\n",
       "      <td>NaN</td>\n",
       "      <td>6.0</td>\n",
       "    </tr>\n",
       "  </tbody>\n",
       "</table>\n",
       "</div>"
      ],
      "text/plain": [
       "     이름 설문 송부 회신 여부       작성율 직급/직책 Dept.            Pjt 직무경력_FCM 직무경력_FCE  \\\n",
       "40  이석준    추가     O  0.291139    SV    환경  전자 P2-PJT 초순수     None     None   \n",
       "41  이승철    추가     O  0.329114    SV    환경  전자 P2-PJT 초순수     None     None   \n",
       "42  장덕진    추가     O  0.291139    SV    환경  전자 P2-PJT 초순수     None     None   \n",
       "43  조재영    추가     O  0.189873    SV    환경  전자 P2-PJT 초순수     None     None   \n",
       "44  천상진    추가     O  0.924051    SI    산업        헝가리 SDI     None     None   \n",
       "\n",
       "   직무경력_SI 직무경력_SV 직무경력_기타  상품경력_산업  상품경력_환경  상품경력_화공  \n",
       "40   5년 미만   5~10년    None      NaN      2.0     12.0  \n",
       "41    None   5~10년    None      NaN      5.0      NaN  \n",
       "42    None   5년 미만    None      NaN      1.5      NaN  \n",
       "43    None   5~10년    None      NaN      9.6      NaN  \n",
       "44   5년 미만  20년 이상    None      5.0      NaN      6.0  "
      ]
     },
     "execution_count": 13,
     "metadata": {},
     "output_type": "execute_result"
    }
   ],
   "source": [
    "df_basic=df_basic.drop('No.',axis=1)\n",
    "df_basic.tail()"
   ]
  },
  {
   "cell_type": "code",
   "execution_count": 15,
   "metadata": {
    "ExecuteTime": {
     "end_time": "2021-01-23T12:37:22.164341Z",
     "start_time": "2021-01-23T12:37:22.118140Z"
    }
   },
   "outputs": [
    {
     "data": {
      "text/html": [
       "<div>\n",
       "<style scoped>\n",
       "    .dataframe tbody tr th:only-of-type {\n",
       "        vertical-align: middle;\n",
       "    }\n",
       "\n",
       "    .dataframe tbody tr th {\n",
       "        vertical-align: top;\n",
       "    }\n",
       "\n",
       "    .dataframe thead th {\n",
       "        text-align: right;\n",
       "    }\n",
       "</style>\n",
       "<table border=\"1\" class=\"dataframe\">\n",
       "  <thead>\n",
       "    <tr style=\"text-align: right;\">\n",
       "      <th></th>\n",
       "      <th>이름</th>\n",
       "      <th>설문 송부</th>\n",
       "      <th>회신 여부</th>\n",
       "      <th>작성율</th>\n",
       "      <th>직급/직책</th>\n",
       "      <th>Dept.</th>\n",
       "      <th>Pjt</th>\n",
       "      <th>직무경력_FCM</th>\n",
       "      <th>직무경력_FCE</th>\n",
       "      <th>직무경력_SI</th>\n",
       "      <th>직무경력_SV</th>\n",
       "      <th>직무경력_기타</th>\n",
       "      <th>상품경력_산업</th>\n",
       "      <th>상품경력_환경</th>\n",
       "      <th>상품경력_화공</th>\n",
       "    </tr>\n",
       "  </thead>\n",
       "  <tbody>\n",
       "    <tr>\n",
       "      <th>40</th>\n",
       "      <td>이석준</td>\n",
       "      <td>추가</td>\n",
       "      <td>O</td>\n",
       "      <td>0.291139</td>\n",
       "      <td>SV</td>\n",
       "      <td>환경</td>\n",
       "      <td>전자 P2-PJT 초순수</td>\n",
       "      <td>None</td>\n",
       "      <td>None</td>\n",
       "      <td>5년 미만</td>\n",
       "      <td>5~10년</td>\n",
       "      <td>None</td>\n",
       "      <td>NaN</td>\n",
       "      <td>2.0</td>\n",
       "      <td>12.0</td>\n",
       "    </tr>\n",
       "    <tr>\n",
       "      <th>41</th>\n",
       "      <td>이승철</td>\n",
       "      <td>추가</td>\n",
       "      <td>O</td>\n",
       "      <td>0.329114</td>\n",
       "      <td>SV</td>\n",
       "      <td>환경</td>\n",
       "      <td>전자 P2-PJT 초순수</td>\n",
       "      <td>None</td>\n",
       "      <td>None</td>\n",
       "      <td>None</td>\n",
       "      <td>5~10년</td>\n",
       "      <td>None</td>\n",
       "      <td>NaN</td>\n",
       "      <td>5.0</td>\n",
       "      <td>NaN</td>\n",
       "    </tr>\n",
       "    <tr>\n",
       "      <th>42</th>\n",
       "      <td>장덕진</td>\n",
       "      <td>추가</td>\n",
       "      <td>O</td>\n",
       "      <td>0.291139</td>\n",
       "      <td>SV</td>\n",
       "      <td>환경</td>\n",
       "      <td>전자 P2-PJT 초순수</td>\n",
       "      <td>None</td>\n",
       "      <td>None</td>\n",
       "      <td>None</td>\n",
       "      <td>5년 미만</td>\n",
       "      <td>None</td>\n",
       "      <td>NaN</td>\n",
       "      <td>1.5</td>\n",
       "      <td>NaN</td>\n",
       "    </tr>\n",
       "    <tr>\n",
       "      <th>43</th>\n",
       "      <td>조재영</td>\n",
       "      <td>추가</td>\n",
       "      <td>O</td>\n",
       "      <td>0.189873</td>\n",
       "      <td>SV</td>\n",
       "      <td>환경</td>\n",
       "      <td>전자 P2-PJT 초순수</td>\n",
       "      <td>None</td>\n",
       "      <td>None</td>\n",
       "      <td>None</td>\n",
       "      <td>5~10년</td>\n",
       "      <td>None</td>\n",
       "      <td>NaN</td>\n",
       "      <td>9.6</td>\n",
       "      <td>NaN</td>\n",
       "    </tr>\n",
       "    <tr>\n",
       "      <th>44</th>\n",
       "      <td>천상진</td>\n",
       "      <td>추가</td>\n",
       "      <td>O</td>\n",
       "      <td>0.924051</td>\n",
       "      <td>SI</td>\n",
       "      <td>산업</td>\n",
       "      <td>헝가리 SDI</td>\n",
       "      <td>None</td>\n",
       "      <td>None</td>\n",
       "      <td>5년 미만</td>\n",
       "      <td>20년 이상</td>\n",
       "      <td>None</td>\n",
       "      <td>5.0</td>\n",
       "      <td>NaN</td>\n",
       "      <td>6.0</td>\n",
       "    </tr>\n",
       "  </tbody>\n",
       "</table>\n",
       "</div>"
      ],
      "text/plain": [
       "     이름 설문 송부 회신 여부       작성율 직급/직책 Dept.            Pjt 직무경력_FCM 직무경력_FCE  \\\n",
       "40  이석준    추가     O  0.291139    SV    환경  전자 P2-PJT 초순수     None     None   \n",
       "41  이승철    추가     O  0.329114    SV    환경  전자 P2-PJT 초순수     None     None   \n",
       "42  장덕진    추가     O  0.291139    SV    환경  전자 P2-PJT 초순수     None     None   \n",
       "43  조재영    추가     O  0.189873    SV    환경  전자 P2-PJT 초순수     None     None   \n",
       "44  천상진    추가     O  0.924051    SI    산업        헝가리 SDI     None     None   \n",
       "\n",
       "   직무경력_SI 직무경력_SV 직무경력_기타  상품경력_산업  상품경력_환경  상품경력_화공  \n",
       "40   5년 미만   5~10년    None      NaN      2.0     12.0  \n",
       "41    None   5~10년    None      NaN      5.0      NaN  \n",
       "42    None   5년 미만    None      NaN      1.5      NaN  \n",
       "43    None   5~10년    None      NaN      9.6      NaN  \n",
       "44   5년 미만  20년 이상    None      5.0      NaN      6.0  "
      ]
     },
     "execution_count": 15,
     "metadata": {},
     "output_type": "execute_result"
    }
   ],
   "source": [
    "df_basic.tail()"
   ]
  },
  {
   "cell_type": "code",
   "execution_count": 30,
   "metadata": {
    "ExecuteTime": {
     "end_time": "2021-01-23T12:52:25.217059Z",
     "start_time": "2021-01-23T12:52:25.209059Z"
    }
   },
   "outputs": [],
   "source": [
    "df_approval=df.loc[:,['자재승인요청_필요',\"자재승인요청_필요항목\",\"자재승인요청_가능성\",\"자재승인요청_가능성이유\"]]"
   ]
  },
  {
   "cell_type": "code",
   "execution_count": 31,
   "metadata": {
    "ExecuteTime": {
     "end_time": "2021-01-23T12:52:25.521076Z",
     "start_time": "2021-01-23T12:52:25.505075Z"
    }
   },
   "outputs": [
    {
     "data": {
      "text/html": [
       "<div>\n",
       "<style scoped>\n",
       "    .dataframe tbody tr th:only-of-type {\n",
       "        vertical-align: middle;\n",
       "    }\n",
       "\n",
       "    .dataframe tbody tr th {\n",
       "        vertical-align: top;\n",
       "    }\n",
       "\n",
       "    .dataframe thead th {\n",
       "        text-align: right;\n",
       "    }\n",
       "</style>\n",
       "<table border=\"1\" class=\"dataframe\">\n",
       "  <thead>\n",
       "    <tr style=\"text-align: right;\">\n",
       "      <th></th>\n",
       "      <th>자재승인요청_필요</th>\n",
       "      <th>자재승인요청_필요항목</th>\n",
       "      <th>자재승인요청_가능성</th>\n",
       "      <th>자재승인요청_가능성이유</th>\n",
       "    </tr>\n",
       "  </thead>\n",
       "  <tbody>\n",
       "    <tr>\n",
       "      <th>0</th>\n",
       "      <td>4.0</td>\n",
       "      <td>현재 자재구매는 업체에서 수행 합니다.</td>\n",
       "      <td>4.0</td>\n",
       "      <td>현재 자재구매는 업체에서 수행 합니다.</td>\n",
       "    </tr>\n",
       "    <tr>\n",
       "      <th>1</th>\n",
       "      <td>3.0</td>\n",
       "      <td>자료 업로드하여 문서관리, 필요시 즉시 열람</td>\n",
       "      <td>3.0</td>\n",
       "      <td>외부 승인자(감리, 발주처)가 시스템 접근이 되어야 효과 발생, 안될 경우 내부 시...</td>\n",
       "    </tr>\n",
       "    <tr>\n",
       "      <th>2</th>\n",
       "      <td>5.0</td>\n",
       "      <td>자재승인업무 중 결재라인 자동화필요</td>\n",
       "      <td>5.0</td>\n",
       "      <td>방대한 자료 및 복잡한 결재절차</td>\n",
       "    </tr>\n",
       "    <tr>\n",
       "      <th>3</th>\n",
       "      <td>5.0</td>\n",
       "      <td>여러 품목에 대한 서류 작성에 시간이 소모됨</td>\n",
       "      <td>3.0</td>\n",
       "      <td>시스템 구축이 안되있음 (Data 확보 필요)</td>\n",
       "    </tr>\n",
       "    <tr>\n",
       "      <th>4</th>\n",
       "      <td>4.0</td>\n",
       "      <td>승인서류</td>\n",
       "      <td>3.0</td>\n",
       "      <td>자재승인의 절차상 공사업체 자료제출-&gt; SECL 검토 -&gt; 발주처 승인요청으로 자동...</td>\n",
       "    </tr>\n",
       "  </tbody>\n",
       "</table>\n",
       "</div>"
      ],
      "text/plain": [
       "   자재승인요청_필요               자재승인요청_필요항목  자재승인요청_가능성  \\\n",
       "0        4.0     현재 자재구매는 업체에서 수행 합니다.         4.0   \n",
       "1        3.0  자료 업로드하여 문서관리, 필요시 즉시 열람         3.0   \n",
       "2        5.0       자재승인업무 중 결재라인 자동화필요         5.0   \n",
       "3        5.0  여러 품목에 대한 서류 작성에 시간이 소모됨         3.0   \n",
       "4        4.0                      승인서류         3.0   \n",
       "\n",
       "                                        자재승인요청_가능성이유  \n",
       "0                              현재 자재구매는 업체에서 수행 합니다.  \n",
       "1  외부 승인자(감리, 발주처)가 시스템 접근이 되어야 효과 발생, 안될 경우 내부 시...  \n",
       "2                                  방대한 자료 및 복잡한 결재절차  \n",
       "3                          시스템 구축이 안되있음 (Data 확보 필요)  \n",
       "4  자재승인의 절차상 공사업체 자료제출-> SECL 검토 -> 발주처 승인요청으로 자동...  "
      ]
     },
     "execution_count": 31,
     "metadata": {},
     "output_type": "execute_result"
    }
   ],
   "source": [
    "df_approval.head()"
   ]
  },
  {
   "cell_type": "markdown",
   "metadata": {},
   "source": [
    "## 시각화 : 자재 승인 요청 "
   ]
  },
  {
   "cell_type": "markdown",
   "metadata": {},
   "source": [
    "### 데이터 사전처리"
   ]
  },
  {
   "cell_type": "code",
   "execution_count": 36,
   "metadata": {
    "ExecuteTime": {
     "end_time": "2021-01-23T12:55:42.959751Z",
     "start_time": "2021-01-23T12:55:42.953750Z"
    }
   },
   "outputs": [],
   "source": [
    "df_approval=pd.concat([df_basic,df_approval],axis=1)"
   ]
  },
  {
   "cell_type": "code",
   "execution_count": 60,
   "metadata": {
    "ExecuteTime": {
     "end_time": "2021-01-23T13:12:24.208848Z",
     "start_time": "2021-01-23T13:12:24.188847Z"
    }
   },
   "outputs": [
    {
     "name": "stdout",
     "output_type": "stream",
     "text": [
      "<class 'pandas.core.frame.DataFrame'>\n",
      "RangeIndex: 45 entries, 0 to 44\n",
      "Data columns (total 19 columns):\n",
      " #   Column        Non-Null Count  Dtype  \n",
      "---  ------        --------------  -----  \n",
      " 0   이름            45 non-null     object \n",
      " 1   설문 송부         45 non-null     object \n",
      " 2   회신 여부         45 non-null     object \n",
      " 3   작성율           45 non-null     float64\n",
      " 4   직급/직책         45 non-null     object \n",
      " 5   Dept.         45 non-null     object \n",
      " 6   Pjt           45 non-null     object \n",
      " 7   직무경력_FCM      2 non-null      object \n",
      " 8   직무경력_FCE      11 non-null     object \n",
      " 9   직무경력_SI       18 non-null     object \n",
      " 10  직무경력_SV       38 non-null     object \n",
      " 11  직무경력_기타       3 non-null      object \n",
      " 12  상품경력_산업       16 non-null     float64\n",
      " 13  상품경력_환경       34 non-null     float64\n",
      " 14  상품경력_화공       14 non-null     float64\n",
      " 15  자재승인요청_필요     32 non-null     float64\n",
      " 16  자재승인요청_필요항목   29 non-null     object \n",
      " 17  자재승인요청_가능성    30 non-null     float64\n",
      " 18  자재승인요청_가능성이유  30 non-null     object \n",
      "dtypes: float64(6), object(13)\n",
      "memory usage: 6.8+ KB\n"
     ]
    }
   ],
   "source": [
    "df_approval.info()"
   ]
  },
  {
   "cell_type": "code",
   "execution_count": 37,
   "metadata": {
    "ExecuteTime": {
     "end_time": "2021-01-23T12:56:13.286164Z",
     "start_time": "2021-01-23T12:56:13.250162Z"
    }
   },
   "outputs": [
    {
     "data": {
      "text/html": [
       "<div>\n",
       "<style scoped>\n",
       "    .dataframe tbody tr th:only-of-type {\n",
       "        vertical-align: middle;\n",
       "    }\n",
       "\n",
       "    .dataframe tbody tr th {\n",
       "        vertical-align: top;\n",
       "    }\n",
       "\n",
       "    .dataframe thead th {\n",
       "        text-align: right;\n",
       "    }\n",
       "</style>\n",
       "<table border=\"1\" class=\"dataframe\">\n",
       "  <thead>\n",
       "    <tr style=\"text-align: right;\">\n",
       "      <th></th>\n",
       "      <th>이름</th>\n",
       "      <th>설문 송부</th>\n",
       "      <th>회신 여부</th>\n",
       "      <th>작성율</th>\n",
       "      <th>직급/직책</th>\n",
       "      <th>Dept.</th>\n",
       "      <th>Pjt</th>\n",
       "      <th>직무경력_FCM</th>\n",
       "      <th>직무경력_FCE</th>\n",
       "      <th>직무경력_SI</th>\n",
       "      <th>직무경력_SV</th>\n",
       "      <th>직무경력_기타</th>\n",
       "      <th>상품경력_산업</th>\n",
       "      <th>상품경력_환경</th>\n",
       "      <th>상품경력_화공</th>\n",
       "      <th>자재승인요청_필요</th>\n",
       "      <th>자재승인요청_필요항목</th>\n",
       "      <th>자재승인요청_가능성</th>\n",
       "      <th>자재승인요청_가능성이유</th>\n",
       "    </tr>\n",
       "  </thead>\n",
       "  <tbody>\n",
       "    <tr>\n",
       "      <th>0</th>\n",
       "      <td>서영민</td>\n",
       "      <td>최초</td>\n",
       "      <td>O</td>\n",
       "      <td>0.810127</td>\n",
       "      <td>SI</td>\n",
       "      <td>산업</td>\n",
       "      <td>평택 Linde ASU</td>\n",
       "      <td>None</td>\n",
       "      <td>None</td>\n",
       "      <td>5~10년</td>\n",
       "      <td>None</td>\n",
       "      <td>None</td>\n",
       "      <td>4.0</td>\n",
       "      <td>NaN</td>\n",
       "      <td>10.0</td>\n",
       "      <td>4.0</td>\n",
       "      <td>현재 자재구매는 업체에서 수행 합니다.</td>\n",
       "      <td>4.0</td>\n",
       "      <td>현재 자재구매는 업체에서 수행 합니다.</td>\n",
       "    </tr>\n",
       "    <tr>\n",
       "      <th>1</th>\n",
       "      <td>방기동</td>\n",
       "      <td>최초</td>\n",
       "      <td>O</td>\n",
       "      <td>0.936709</td>\n",
       "      <td>SV</td>\n",
       "      <td>산업</td>\n",
       "      <td>탕정 A2/A3 PJT</td>\n",
       "      <td>None</td>\n",
       "      <td>None</td>\n",
       "      <td>None</td>\n",
       "      <td>5~10년</td>\n",
       "      <td>None</td>\n",
       "      <td>8.0</td>\n",
       "      <td>NaN</td>\n",
       "      <td>NaN</td>\n",
       "      <td>3.0</td>\n",
       "      <td>자료 업로드하여 문서관리, 필요시 즉시 열람</td>\n",
       "      <td>3.0</td>\n",
       "      <td>외부 승인자(감리, 발주처)가 시스템 접근이 되어야 효과 발생, 안될 경우 내부 시...</td>\n",
       "    </tr>\n",
       "    <tr>\n",
       "      <th>2</th>\n",
       "      <td>유형찬</td>\n",
       "      <td>최초</td>\n",
       "      <td>O</td>\n",
       "      <td>1.000000</td>\n",
       "      <td>SV</td>\n",
       "      <td>산업</td>\n",
       "      <td>탕정 C-PJT</td>\n",
       "      <td>None</td>\n",
       "      <td>5년 미만</td>\n",
       "      <td>None</td>\n",
       "      <td>5~10년</td>\n",
       "      <td>None</td>\n",
       "      <td>11.0</td>\n",
       "      <td>NaN</td>\n",
       "      <td>NaN</td>\n",
       "      <td>5.0</td>\n",
       "      <td>자재승인업무 중 결재라인 자동화필요</td>\n",
       "      <td>5.0</td>\n",
       "      <td>방대한 자료 및 복잡한 결재절차</td>\n",
       "    </tr>\n",
       "    <tr>\n",
       "      <th>3</th>\n",
       "      <td>홍성민</td>\n",
       "      <td>최초</td>\n",
       "      <td>O</td>\n",
       "      <td>0.873418</td>\n",
       "      <td>SV</td>\n",
       "      <td>산업</td>\n",
       "      <td>중국 천진법인 제2공장 증설공사</td>\n",
       "      <td>None</td>\n",
       "      <td>None</td>\n",
       "      <td>None</td>\n",
       "      <td>5~10년</td>\n",
       "      <td>None</td>\n",
       "      <td>6.0</td>\n",
       "      <td>NaN</td>\n",
       "      <td>NaN</td>\n",
       "      <td>5.0</td>\n",
       "      <td>여러 품목에 대한 서류 작성에 시간이 소모됨</td>\n",
       "      <td>3.0</td>\n",
       "      <td>시스템 구축이 안되있음 (Data 확보 필요)</td>\n",
       "    </tr>\n",
       "    <tr>\n",
       "      <th>4</th>\n",
       "      <td>김동경</td>\n",
       "      <td>최초</td>\n",
       "      <td>O</td>\n",
       "      <td>0.835443</td>\n",
       "      <td>SI</td>\n",
       "      <td>산업</td>\n",
       "      <td>헝가리 SDI</td>\n",
       "      <td>None</td>\n",
       "      <td>None</td>\n",
       "      <td>5~10년</td>\n",
       "      <td>10~15년</td>\n",
       "      <td>None</td>\n",
       "      <td>22.0</td>\n",
       "      <td>3.0</td>\n",
       "      <td>NaN</td>\n",
       "      <td>4.0</td>\n",
       "      <td>승인서류</td>\n",
       "      <td>3.0</td>\n",
       "      <td>자재승인의 절차상 공사업체 자료제출-&gt; SECL 검토 -&gt; 발주처 승인요청으로 자동...</td>\n",
       "    </tr>\n",
       "  </tbody>\n",
       "</table>\n",
       "</div>"
      ],
      "text/plain": [
       "    이름 설문 송부 회신 여부       작성율 직급/직책 Dept.                Pjt 직무경력_FCM 직무경력_FCE  \\\n",
       "0  서영민    최초     O  0.810127    SI    산업       평택 Linde ASU     None     None   \n",
       "1  방기동    최초     O  0.936709    SV    산업       탕정 A2/A3 PJT     None     None   \n",
       "2  유형찬    최초     O  1.000000    SV    산업           탕정 C-PJT     None    5년 미만   \n",
       "3  홍성민    최초     O  0.873418    SV    산업  중국 천진법인 제2공장 증설공사     None     None   \n",
       "4  김동경    최초     O  0.835443    SI    산업            헝가리 SDI     None     None   \n",
       "\n",
       "  직무경력_SI 직무경력_SV 직무경력_기타  상품경력_산업  상품경력_환경  상품경력_화공  자재승인요청_필요  \\\n",
       "0   5~10년    None    None      4.0      NaN     10.0        4.0   \n",
       "1    None   5~10년    None      8.0      NaN      NaN        3.0   \n",
       "2    None   5~10년    None     11.0      NaN      NaN        5.0   \n",
       "3    None   5~10년    None      6.0      NaN      NaN        5.0   \n",
       "4   5~10년  10~15년    None     22.0      3.0      NaN        4.0   \n",
       "\n",
       "                자재승인요청_필요항목  자재승인요청_가능성  \\\n",
       "0     현재 자재구매는 업체에서 수행 합니다.         4.0   \n",
       "1  자료 업로드하여 문서관리, 필요시 즉시 열람         3.0   \n",
       "2       자재승인업무 중 결재라인 자동화필요         5.0   \n",
       "3  여러 품목에 대한 서류 작성에 시간이 소모됨         3.0   \n",
       "4                      승인서류         3.0   \n",
       "\n",
       "                                        자재승인요청_가능성이유  \n",
       "0                              현재 자재구매는 업체에서 수행 합니다.  \n",
       "1  외부 승인자(감리, 발주처)가 시스템 접근이 되어야 효과 발생, 안될 경우 내부 시...  \n",
       "2                                  방대한 자료 및 복잡한 결재절차  \n",
       "3                          시스템 구축이 안되있음 (Data 확보 필요)  \n",
       "4  자재승인의 절차상 공사업체 자료제출-> SECL 검토 -> 발주처 승인요청으로 자동...  "
      ]
     },
     "execution_count": 37,
     "metadata": {},
     "output_type": "execute_result"
    }
   ],
   "source": [
    "df_approval.head()"
   ]
  },
  {
   "cell_type": "code",
   "execution_count": 89,
   "metadata": {
    "ExecuteTime": {
     "end_time": "2021-01-23T13:29:17.994448Z",
     "start_time": "2021-01-23T13:29:17.982448Z"
    }
   },
   "outputs": [],
   "source": [
    "df_approval_filtered1=df_approval.loc[ df['자재승인요청_필요'].notnull(), ['직급/직책','자재승인요청_필요',\"자재승인요청_필요항목\",\"자재승인요청_가능성\",\"자재승인요청_가능성이유\"] ]\n",
    "df_approval_filtered1=df_approval_filtered1.astype({\"자재승인요청_필요\":\"int64\"})"
   ]
  },
  {
   "cell_type": "code",
   "execution_count": 88,
   "metadata": {
    "ExecuteTime": {
     "end_time": "2021-01-23T13:29:09.545245Z",
     "start_time": "2021-01-23T13:29:09.525245Z"
    }
   },
   "outputs": [],
   "source": [
    "df_approval_filtered2=df_approval.loc[ df['자재승인요청_가능성'].notnull(), ['직급/직책','자재승인요청_필요',\"자재승인요청_필요항목\",\"자재승인요청_가능성\",\"자재승인요청_가능성이유\"] ]\n",
    "df_approval_filtered2=df_approval_filtered2.astype({\"자재승인요청_가능성\":\"int64\"})"
   ]
  },
  {
   "cell_type": "markdown",
   "metadata": {
    "ExecuteTime": {
     "end_time": "2021-01-23T13:30:05.232233Z",
     "start_time": "2021-01-23T13:30:05.225233Z"
    }
   },
   "source": [
    "## 시각화 : 자재 승인 요청 업무 설문 결과 "
   ]
  },
  {
   "cell_type": "code",
   "execution_count": 92,
   "metadata": {
    "ExecuteTime": {
     "end_time": "2021-01-23T13:30:37.796620Z",
     "start_time": "2021-01-23T13:30:37.233599Z"
    }
   },
   "outputs": [
    {
     "data": {
      "text/plain": [
       "<matplotlib.axes._subplots.AxesSubplot at 0x34b49b00>"
      ]
     },
     "execution_count": 92,
     "metadata": {},
     "output_type": "execute_result"
    },
    {
     "data": {
      "image/png": "[encoded data removed]",
      "text/plain": [
       "<Figure size 864x576 with 2 Axes>"
      ]
     },
     "metadata": {
      "needs_background": "light"
     },
     "output_type": "display_data"
    }
   ],
   "source": [
    "fig, ax = plt.subplots(ncols=2,figsize=(12,8))\n",
    "sns.countplot(y='자재승인요청_필요',hue='직급/직책',data=df_approval_filtered1,palette='Paired',ax=ax[0])\n",
    "sns.countplot(y='자재승인요청_가능성',hue='직급/직책',data=df_approval_filtered2,palette='Paired',ax=ax[1])"
   ]
  },
  {
   "cell_type": "markdown",
   "metadata": {},
   "source": [
    "## 설문 문항 작성 분석 - 필요시 LDA 혹은 word cloud 적용"
   ]
  },
  {
   "cell_type": "code",
   "execution_count": 94,
   "metadata": {
    "ExecuteTime": {
     "end_time": "2021-01-23T13:33:11.136618Z",
     "start_time": "2021-01-23T13:33:11.129617Z"
    }
   },
   "outputs": [],
   "source": [
    "# 1~5점 까지 어떤 응답을 하였는가 분석\n",
    "# 자료가 한두개인 경우 LDA 미적용 \n",
    "# 응답횟수가 여러개인 경우 LDA로 Topic이 뭔지 추출 "
   ]
  },
  {
   "cell_type": "markdown",
   "metadata": {
    "ExecuteTime": {
     "end_time": "2021-01-23T13:34:58.385326Z",
     "start_time": "2021-01-23T13:34:58.378325Z"
    }
   },
   "source": [
    "### 자재 승인 요청 필요성 - 1점"
   ]
  },
  {
   "cell_type": "code",
   "execution_count": 96,
   "metadata": {
    "ExecuteTime": {
     "end_time": "2021-01-23T13:36:02.926348Z",
     "start_time": "2021-01-23T13:36:02.865345Z"
    }
   },
   "outputs": [
    {
     "data": {
      "text/html": [
       "<div>\n",
       "<style scoped>\n",
       "    .dataframe tbody tr th:only-of-type {\n",
       "        vertical-align: middle;\n",
       "    }\n",
       "\n",
       "    .dataframe tbody tr th {\n",
       "        vertical-align: top;\n",
       "    }\n",
       "\n",
       "    .dataframe thead th {\n",
       "        text-align: right;\n",
       "    }\n",
       "</style>\n",
       "<table border=\"1\" class=\"dataframe\">\n",
       "  <thead>\n",
       "    <tr style=\"text-align: right;\">\n",
       "      <th></th>\n",
       "      <th>직급/직책</th>\n",
       "      <th>자재승인요청_필요</th>\n",
       "      <th>자재승인요청_필요항목</th>\n",
       "      <th>자재승인요청_가능성</th>\n",
       "      <th>자재승인요청_가능성이유</th>\n",
       "    </tr>\n",
       "  </thead>\n",
       "  <tbody>\n",
       "    <tr>\n",
       "      <th>29</th>\n",
       "      <td>FCM</td>\n",
       "      <td>1</td>\n",
       "      <td>None</td>\n",
       "      <td>NaN</td>\n",
       "      <td>None</td>\n",
       "    </tr>\n",
       "  </tbody>\n",
       "</table>\n",
       "</div>"
      ],
      "text/plain": [
       "   직급/직책  자재승인요청_필요 자재승인요청_필요항목  자재승인요청_가능성 자재승인요청_가능성이유\n",
       "29   FCM          1        None         NaN         None"
      ]
     },
     "execution_count": 96,
     "metadata": {},
     "output_type": "execute_result"
    }
   ],
   "source": [
    "df_approval_filtered1.loc[df_approval_filtered1['자재승인요청_필요']==1]"
   ]
  },
  {
   "cell_type": "markdown",
   "metadata": {},
   "source": [
    "### 자재 승인 요청 필요성 - 2점"
   ]
  },
  {
   "cell_type": "code",
   "execution_count": 98,
   "metadata": {
    "ExecuteTime": {
     "end_time": "2021-01-23T13:36:33.464861Z",
     "start_time": "2021-01-23T13:36:33.451860Z"
    }
   },
   "outputs": [
    {
     "data": {
      "text/html": [
       "<div>\n",
       "<style scoped>\n",
       "    .dataframe tbody tr th:only-of-type {\n",
       "        vertical-align: middle;\n",
       "    }\n",
       "\n",
       "    .dataframe tbody tr th {\n",
       "        vertical-align: top;\n",
       "    }\n",
       "\n",
       "    .dataframe thead th {\n",
       "        text-align: right;\n",
       "    }\n",
       "</style>\n",
       "<table border=\"1\" class=\"dataframe\">\n",
       "  <thead>\n",
       "    <tr style=\"text-align: right;\">\n",
       "      <th></th>\n",
       "      <th>자재승인요청_필요항목</th>\n",
       "    </tr>\n",
       "  </thead>\n",
       "  <tbody>\n",
       "    <tr>\n",
       "      <th>5</th>\n",
       "      <td>VP를 PDF로 접수. 추후 필요시 시스템 조회. 서지보관 불필요</td>\n",
       "    </tr>\n",
       "    <tr>\n",
       "      <th>17</th>\n",
       "      <td>딱히 없음.</td>\n",
       "    </tr>\n",
       "    <tr>\n",
       "      <th>21</th>\n",
       "      <td>동일 지역,사업별로 승인 완료 된 자재승인원이 시스템에 업로드 되었으면 좋겠다.\\n...</td>\n",
       "    </tr>\n",
       "    <tr>\n",
       "      <th>22</th>\n",
       "      <td>None</td>\n",
       "    </tr>\n",
       "    <tr>\n",
       "      <th>34</th>\n",
       "      <td>None</td>\n",
       "    </tr>\n",
       "  </tbody>\n",
       "</table>\n",
       "</div>"
      ],
      "text/plain": [
       "                                          자재승인요청_필요항목\n",
       "5                VP를 PDF로 접수. 추후 필요시 시스템 조회. 서지보관 불필요\n",
       "17                                             딱히 없음.\n",
       "21  동일 지역,사업별로 승인 완료 된 자재승인원이 시스템에 업로드 되었으면 좋겠다.\\n...\n",
       "22                                               None\n",
       "34                                               None"
      ]
     },
     "execution_count": 98,
     "metadata": {},
     "output_type": "execute_result"
    }
   ],
   "source": [
    "df_approval_filtered1.loc[df_approval_filtered1['자재승인요청_필요']==2,[\"자재승인요청_필요항목\"]]"
   ]
  },
  {
   "cell_type": "code",
   "execution_count": 99,
   "metadata": {
    "ExecuteTime": {
     "end_time": "2021-01-23T13:39:01.593456Z",
     "start_time": "2021-01-23T13:39:01.274441Z"
    }
   },
   "outputs": [
    {
     "data": {
      "text/plain": [
       "<Sheet [통합 문서1]Sheet1>"
      ]
     },
     "execution_count": 99,
     "metadata": {},
     "output_type": "execute_result"
    }
   ],
   "source": [
    "px.to_excel(data=df_approval_filtered1.loc[df_approval_filtered1['자재승인요청_필요']==2,[\"자재승인요청_필요항목\"]],rng=\"A1\")"
   ]
  },
  {
   "cell_type": "markdown",
   "metadata": {},
   "source": [
    "### 자재 승인 요청 필요성 - 3점"
   ]
  },
  {
   "cell_type": "code",
   "execution_count": 102,
   "metadata": {
    "ExecuteTime": {
     "end_time": "2021-01-23T13:49:45.087222Z",
     "start_time": "2021-01-23T13:49:45.075221Z"
    }
   },
   "outputs": [],
   "source": [
    "df_app_need_text3=df_approval_filtered1.loc[df_approval_filtered1['자재승인요청_필요']==3,[\"자재승인요청_필요항목\"]]"
   ]
  },
  {
   "cell_type": "code",
   "execution_count": 103,
   "metadata": {
    "ExecuteTime": {
     "end_time": "2021-01-23T13:49:57.077791Z",
     "start_time": "2021-01-23T13:49:57.065790Z"
    }
   },
   "outputs": [
    {
     "data": {
      "text/html": [
       "<div>\n",
       "<style scoped>\n",
       "    .dataframe tbody tr th:only-of-type {\n",
       "        vertical-align: middle;\n",
       "    }\n",
       "\n",
       "    .dataframe tbody tr th {\n",
       "        vertical-align: top;\n",
       "    }\n",
       "\n",
       "    .dataframe thead th {\n",
       "        text-align: right;\n",
       "    }\n",
       "</style>\n",
       "<table border=\"1\" class=\"dataframe\">\n",
       "  <thead>\n",
       "    <tr style=\"text-align: right;\">\n",
       "      <th></th>\n",
       "      <th>자재승인요청_필요항목</th>\n",
       "    </tr>\n",
       "  </thead>\n",
       "  <tbody>\n",
       "    <tr>\n",
       "      <th>1</th>\n",
       "      <td>자료 업로드하여 문서관리, 필요시 즉시 열람</td>\n",
       "    </tr>\n",
       "    <tr>\n",
       "      <th>8</th>\n",
       "      <td>BIM 도면에서 물량 추출 자동화</td>\n",
       "    </tr>\n",
       "    <tr>\n",
       "      <th>14</th>\n",
       "      <td>전 현장 기승인자재 확인/즉시 적용 가능하도록 DB 구축</td>\n",
       "    </tr>\n",
       "    <tr>\n",
       "      <th>15</th>\n",
       "      <td>전 현장 기승인자재 확인/즉시 적용 가능하도록 DB 구축</td>\n",
       "    </tr>\n",
       "    <tr>\n",
       "      <th>24</th>\n",
       "      <td>기존 PJT에 사용한 자재 승인 자동화</td>\n",
       "    </tr>\n",
       "    <tr>\n",
       "      <th>40</th>\n",
       "      <td>입고 관련 서류</td>\n",
       "    </tr>\n",
       "    <tr>\n",
       "      <th>43</th>\n",
       "      <td>설계와 연동 자재구매</td>\n",
       "    </tr>\n",
       "  </tbody>\n",
       "</table>\n",
       "</div>"
      ],
      "text/plain": [
       "                        자재승인요청_필요항목\n",
       "1          자료 업로드하여 문서관리, 필요시 즉시 열람\n",
       "8                BIM 도면에서 물량 추출 자동화\n",
       "14  전 현장 기승인자재 확인/즉시 적용 가능하도록 DB 구축\n",
       "15  전 현장 기승인자재 확인/즉시 적용 가능하도록 DB 구축\n",
       "24            기존 PJT에 사용한 자재 승인 자동화\n",
       "40                         입고 관련 서류\n",
       "43                      설계와 연동 자재구매"
      ]
     },
     "execution_count": 103,
     "metadata": {},
     "output_type": "execute_result"
    }
   ],
   "source": [
    "df_app_need_text3\n"
   ]
  },
  {
   "cell_type": "code",
   "execution_count": 107,
   "metadata": {
    "ExecuteTime": {
     "end_time": "2021-01-23T13:57:11.299463Z",
     "start_time": "2021-01-23T13:57:11.289463Z"
    }
   },
   "outputs": [],
   "source": [
    "# twitter.pos(\"자료 업로드하여 문서관리, 필요시 즉시 열람\")"
   ]
  },
  {
   "cell_type": "markdown",
   "metadata": {},
   "source": [
    "### 자재 승인 요청 필요성 - 4점"
   ]
  },
  {
   "cell_type": "code",
   "execution_count": 108,
   "metadata": {
    "ExecuteTime": {
     "end_time": "2021-01-23T13:58:11.980305Z",
     "start_time": "2021-01-23T13:58:11.973305Z"
    }
   },
   "outputs": [],
   "source": [
    "df_app_need_text4=df_approval_filtered1.loc[df_approval_filtered1['자재승인요청_필요']==4,[\"자재승인요청_필요항목\"]]"
   ]
  },
  {
   "cell_type": "code",
   "execution_count": 109,
   "metadata": {
    "ExecuteTime": {
     "end_time": "2021-01-23T13:58:17.490588Z",
     "start_time": "2021-01-23T13:58:17.469588Z"
    }
   },
   "outputs": [
    {
     "data": {
      "text/html": [
       "<div>\n",
       "<style scoped>\n",
       "    .dataframe tbody tr th:only-of-type {\n",
       "        vertical-align: middle;\n",
       "    }\n",
       "\n",
       "    .dataframe tbody tr th {\n",
       "        vertical-align: top;\n",
       "    }\n",
       "\n",
       "    .dataframe thead th {\n",
       "        text-align: right;\n",
       "    }\n",
       "</style>\n",
       "<table border=\"1\" class=\"dataframe\">\n",
       "  <thead>\n",
       "    <tr style=\"text-align: right;\">\n",
       "      <th></th>\n",
       "      <th>자재승인요청_필요항목</th>\n",
       "    </tr>\n",
       "  </thead>\n",
       "  <tbody>\n",
       "    <tr>\n",
       "      <th>0</th>\n",
       "      <td>현재 자재구매는 업체에서 수행 합니다.</td>\n",
       "    </tr>\n",
       "    <tr>\n",
       "      <th>4</th>\n",
       "      <td>승인서류</td>\n",
       "    </tr>\n",
       "    <tr>\n",
       "      <th>6</th>\n",
       "      <td>승인 관련 서류 와 VP Upload한것이 있으면 좋겠다</td>\n",
       "    </tr>\n",
       "    <tr>\n",
       "      <th>9</th>\n",
       "      <td>승인이 누락되는 일이 없도록 알람이나 체크시트 등이 포함되면 좋겠다.</td>\n",
       "    </tr>\n",
       "    <tr>\n",
       "      <th>13</th>\n",
       "      <td>DB 구축하여 승인서류 자동 제출</td>\n",
       "    </tr>\n",
       "    <tr>\n",
       "      <th>16</th>\n",
       "      <td>전 현장 기승인자재 확인/즉시 적용 가능하도록 DB 구축</td>\n",
       "    </tr>\n",
       "    <tr>\n",
       "      <th>23</th>\n",
       "      <td>자재 공급원 승인 : 수많은 현장에서 자재 승인 서류를 올리는데, 각 현장에서 따로...</td>\n",
       "    </tr>\n",
       "    <tr>\n",
       "      <th>27</th>\n",
       "      <td>자재승인원 서류 작성 (BM, CQI목록 취합, 관련도면, VP 等 관련자료 자동연결)</td>\n",
       "    </tr>\n",
       "    <tr>\n",
       "      <th>33</th>\n",
       "      <td>旣사용되고 있는 자재 및 동일품목 자재에 대한 Data Base化 구축</td>\n",
       "    </tr>\n",
       "    <tr>\n",
       "      <th>36</th>\n",
       "      <td>ERP, Material Code별 재고 파악 등 적용</td>\n",
       "    </tr>\n",
       "    <tr>\n",
       "      <th>38</th>\n",
       "      <td>자재 발주</td>\n",
       "    </tr>\n",
       "    <tr>\n",
       "      <th>44</th>\n",
       "      <td>자재승인 이력 관리 필요, Referance 검색 필요</td>\n",
       "    </tr>\n",
       "  </tbody>\n",
       "</table>\n",
       "</div>"
      ],
      "text/plain": [
       "                                          자재승인요청_필요항목\n",
       "0                               현재 자재구매는 업체에서 수행 합니다.\n",
       "4                                                승인서류\n",
       "6                     승인 관련 서류 와 VP Upload한것이 있으면 좋겠다\n",
       "9              승인이 누락되는 일이 없도록 알람이나 체크시트 등이 포함되면 좋겠다.\n",
       "13                                 DB 구축하여 승인서류 자동 제출\n",
       "16                    전 현장 기승인자재 확인/즉시 적용 가능하도록 DB 구축\n",
       "23  자재 공급원 승인 : 수많은 현장에서 자재 승인 서류를 올리는데, 각 현장에서 따로...\n",
       "27   자재승인원 서류 작성 (BM, CQI목록 취합, 관련도면, VP 等 관련자료 자동연결)\n",
       "33           旣사용되고 있는 자재 및 동일품목 자재에 대한 Data Base化 구축 \n",
       "36                     ERP, Material Code별 재고 파악 등 적용\n",
       "38                                              자재 발주\n",
       "44                     자재승인 이력 관리 필요, Referance 검색 필요"
      ]
     },
     "execution_count": 109,
     "metadata": {},
     "output_type": "execute_result"
    }
   ],
   "source": [
    "df_app_need_text4"
   ]
  },
  {
   "cell_type": "code",
   "execution_count": 123,
   "metadata": {
    "ExecuteTime": {
     "end_time": "2021-01-23T14:16:38.438470Z",
     "start_time": "2021-01-23T14:16:38.358466Z"
    }
   },
   "outputs": [],
   "source": [
    "words=px.LToS(df_app_need_text4['자재승인요청_필요항목'].tolist())\n",
    "t=twitter.pos(words)"
   ]
  },
  {
   "cell_type": "code",
   "execution_count": 145,
   "metadata": {
    "ExecuteTime": {
     "end_time": "2021-01-23T14:27:09.421664Z",
     "start_time": "2021-01-23T14:27:09.243654Z"
    }
   },
   "outputs": [
    {
     "data": {
      "text/plain": [
       "<Sheet [통합 문서2]Sheet1>"
      ]
     },
     "execution_count": 145,
     "metadata": {},
     "output_type": "execute_result"
    }
   ],
   "source": [
    "px.to_excel(data=df_approval_filtered1.loc[df_approval_filtered1['자재승인요청_필요']==4,[\"자재승인요청_필요항목\"]],rng=\"A1\")"
   ]
  },
  {
   "cell_type": "code",
   "execution_count": 138,
   "metadata": {
    "ExecuteTime": {
     "end_time": "2021-01-23T14:20:12.609562Z",
     "start_time": "2021-01-23T14:20:12.602562Z"
    }
   },
   "outputs": [],
   "source": [
    "textlist=[]\n",
    "for i in range(len(t)):\n",
    "    if t[i][1]== \"Noun\" or t[i][1]==\"Alpha\":\n",
    "        textlist.append(t[i][0])\n",
    "        \n"
   ]
  },
  {
   "cell_type": "code",
   "execution_count": 139,
   "metadata": {
    "ExecuteTime": {
     "end_time": "2021-01-23T14:20:12.840575Z",
     "start_time": "2021-01-23T14:20:12.826575Z"
    }
   },
   "outputs": [
    {
     "data": {
      "text/plain": [
       "['현재',\n",
       " '자재',\n",
       " '구매',\n",
       " '업체',\n",
       " '수행',\n",
       " '승인',\n",
       " '서류',\n",
       " '승인',\n",
       " '관련',\n",
       " '서류',\n",
       " 'VP',\n",
       " 'Upload',\n",
       " '것',\n",
       " '승인',\n",
       " '누락',\n",
       " '알람',\n",
       " '체크',\n",
       " '시트',\n",
       " '등',\n",
       " '포함',\n",
       " 'DB',\n",
       " '구축',\n",
       " '승인',\n",
       " '서류',\n",
       " '자동',\n",
       " '제출',\n",
       " '전',\n",
       " '현장',\n",
       " '기승',\n",
       " '자재',\n",
       " '확인',\n",
       " '즉시',\n",
       " '적용',\n",
       " 'DB',\n",
       " '구축',\n",
       " '자재',\n",
       " '공급원',\n",
       " '승인',\n",
       " '현장',\n",
       " '자재',\n",
       " '승인',\n",
       " '서류',\n",
       " '각',\n",
       " '현장',\n",
       " 'Vendor',\n",
       " '연락',\n",
       " '필요',\n",
       " '서류',\n",
       " '접수',\n",
       " '본사',\n",
       " '차원',\n",
       " '대형',\n",
       " 'Vendor',\n",
       " '철골',\n",
       " '배관',\n",
       " '덕트',\n",
       " '케이블',\n",
       " '밸브',\n",
       " '펌프',\n",
       " '등',\n",
       " '의',\n",
       " '각종',\n",
       " '서류',\n",
       " '카달',\n",
       " '로그',\n",
       " '지방세',\n",
       " '국세',\n",
       " '납부',\n",
       " '확인',\n",
       " '공장',\n",
       " '등록증',\n",
       " '각종',\n",
       " '시험',\n",
       " '성적',\n",
       " '를',\n",
       " '시스템',\n",
       " '업로드',\n",
       " '현장',\n",
       " '담당',\n",
       " '추출',\n",
       " '수',\n",
       " '해당',\n",
       " '업무',\n",
       " '주로',\n",
       " '협력',\n",
       " '사',\n",
       " '수행',\n",
       " '서류',\n",
       " '미비',\n",
       " '시',\n",
       " 'SECL',\n",
       " '담당',\n",
       " 'Vendor',\n",
       " '직접',\n",
       " '연락',\n",
       " '경우',\n",
       " '자재',\n",
       " '검사',\n",
       " '종별',\n",
       " '현장',\n",
       " '별',\n",
       " '자재',\n",
       " '검품',\n",
       " '위치',\n",
       " '시스템',\n",
       " '협력',\n",
       " '사가',\n",
       " '자재',\n",
       " '검사',\n",
       " '신청',\n",
       " '감리',\n",
       " 'secl',\n",
       " '담당',\n",
       " '자동',\n",
       " '연락',\n",
       " '검사',\n",
       " '것',\n",
       " '지금',\n",
       " '자재',\n",
       " '때',\n",
       " '감리',\n",
       " '약속',\n",
       " '정해',\n",
       " '검수',\n",
       " '자재',\n",
       " '승인',\n",
       " '서류',\n",
       " '작성',\n",
       " 'BM',\n",
       " 'CQI',\n",
       " '목록',\n",
       " '취합',\n",
       " '관련',\n",
       " '도면',\n",
       " 'VP',\n",
       " '관련',\n",
       " '자료',\n",
       " '자동',\n",
       " '연결',\n",
       " '사용',\n",
       " '자재',\n",
       " '및',\n",
       " '동일',\n",
       " '품목',\n",
       " '자재',\n",
       " '대한',\n",
       " 'Data',\n",
       " 'Base',\n",
       " '구축',\n",
       " 'ERP',\n",
       " 'Material',\n",
       " 'Code',\n",
       " '별',\n",
       " '재고',\n",
       " '파악',\n",
       " '등',\n",
       " '적용',\n",
       " '자재',\n",
       " '발주',\n",
       " '자재',\n",
       " '승인',\n",
       " '이력',\n",
       " '관리',\n",
       " '필요',\n",
       " 'Referance',\n",
       " '검색',\n",
       " '필요']"
      ]
     },
     "execution_count": 139,
     "metadata": {},
     "output_type": "execute_result"
    }
   ],
   "source": [
    "textlist"
   ]
  },
  {
   "cell_type": "code",
   "execution_count": 141,
   "metadata": {
    "ExecuteTime": {
     "end_time": "2021-01-23T14:25:41.195260Z",
     "start_time": "2021-01-23T14:25:41.131257Z"
    }
   },
   "outputs": [],
   "source": [
    "from wordcloud import WordCloud, ImageColorGenerator\n",
    "import matplotlib.pyplot as plt"
   ]
  },
  {
   "cell_type": "code",
   "execution_count": 143,
   "metadata": {
    "ExecuteTime": {
     "end_time": "2021-01-23T14:26:25.249495Z",
     "start_time": "2021-01-23T14:26:25.243495Z"
    }
   },
   "outputs": [],
   "source": [
    "# noun_doc = ' '.join(textlist)\n",
    "# noun_doc = noun_doc.strip()"
   ]
  },
  {
   "cell_type": "code",
   "execution_count": 144,
   "metadata": {
    "ExecuteTime": {
     "end_time": "2021-01-23T14:26:33.103893Z",
     "start_time": "2021-01-23T14:26:32.092847Z"
    }
   },
   "outputs": [
    {
     "data": {
      "image/png": "[encoded data removed]",
      "text/plain": [
       "<Figure size 720x720 with 1 Axes>"
      ]
     },
     "metadata": {
      "needs_background": "light"
     },
     "output_type": "display_data"
    }
   ],
   "source": [
    "# font_path=\"C:/Windows/Fonts/H2MJRE.TTF\"  #폰트\n",
    "# background_color=\"white\"      #배경색\n",
    "# margin=3                     #모서리 여백 넓이\n",
    "# min_font_size=7              #최소 글자 크기\n",
    "# max_font_size=150             #최대 글자 크기\n",
    "# width=500                     #이미지 가로 크기\n",
    "# height=500                    #이미지 세로 크기\n",
    "# wc = WordCloud(font_path=font_path, background_color=background_color, margin=margin, \\\n",
    "#                min_font_size=min_font_size, max_font_size=max_font_size, width=width, height=height)\n",
    "# wc.generate(noun_doc)\n",
    "\n",
    "# plt.figure(figsize=(10, 10))\n",
    "# plt.imshow(wc, interpolation=\"bilinear\")\n",
    "# plt.axis(\"off\")\n",
    "# plt.show()"
   ]
  },
  {
   "cell_type": "code",
   "execution_count": 157,
   "metadata": {
    "ExecuteTime": {
     "end_time": "2021-01-23T15:24:00.778783Z",
     "start_time": "2021-01-23T15:24:00.747583Z"
    }
   },
   "outputs": [
    {
     "data": {
      "text/plain": [
       "12"
      ]
     },
     "execution_count": 157,
     "metadata": {},
     "output_type": "execute_result"
    }
   ],
   "source": [
    "sentences=df_app_need_text4[\"자재승인요청_필요항목\"].tolist()\n",
    "len(sentences)"
   ]
  },
  {
   "cell_type": "code",
   "execution_count": 164,
   "metadata": {
    "ExecuteTime": {
     "end_time": "2021-01-23T15:26:08.455703Z",
     "start_time": "2021-01-23T15:26:08.424503Z"
    }
   },
   "outputs": [
    {
     "data": {
      "text/plain": [
       "'현재 자재구매는 업체에서 수행 합니다.'"
      ]
     },
     "execution_count": 164,
     "metadata": {},
     "output_type": "execute_result"
    }
   ],
   "source": [
    "sentence=sentences[0]\n",
    "sentence"
   ]
  },
  {
   "cell_type": "code",
   "execution_count": 163,
   "metadata": {
    "ExecuteTime": {
     "end_time": "2021-01-23T15:25:46.845352Z",
     "start_time": "2021-01-23T15:25:46.814152Z"
    }
   },
   "outputs": [
    {
     "data": {
      "text/plain": [
       "'Noun'"
      ]
     },
     "execution_count": 163,
     "metadata": {},
     "output_type": "execute_result"
    }
   ],
   "source": [
    "twitter.pos(sentences[0])[0][1]"
   ]
  },
  {
   "cell_type": "code",
   "execution_count": 166,
   "metadata": {
    "ExecuteTime": {
     "end_time": "2021-01-23T15:28:09.464322Z",
     "start_time": "2021-01-23T15:28:09.390120Z"
    }
   },
   "outputs": [],
   "source": [
    "# 명사와 영어단어 추가하기 \n",
    "textlist=[]\n",
    "line_list=[]\n",
    "for sentence in sentences:\n",
    "    textlist=[]\n",
    "    t=twitter.pos(sentence)\n",
    "    for i in range(len(t)):\n",
    "        if t[i][1]== \"Noun\" or t[i][1]==\"Alpha\":\n",
    "            textlist.append(t[i][0])\n",
    "    line_list.append(textlist)\n",
    "        "
   ]
  },
  {
   "cell_type": "code",
   "execution_count": 167,
   "metadata": {
    "ExecuteTime": {
     "end_time": "2021-01-23T15:28:18.329268Z",
     "start_time": "2021-01-23T15:28:18.312668Z"
    }
   },
   "outputs": [
    {
     "data": {
      "text/plain": [
       "[['현재', '자재', '구매', '업체', '수행'],\n",
       " ['승인', '서류'],\n",
       " ['승인', '관련', '서류', 'VP', 'Upload', '것'],\n",
       " ['승인', '누락', '알람', '체크', '시트', '등', '포함'],\n",
       " ['DB', '구축', '승인', '서류', '자동', '제출'],\n",
       " ['전', '현장', '기승', '자재', '확인', '즉시', '적용', 'DB', '구축'],\n",
       " ['자재',\n",
       "  '공급원',\n",
       "  '승인',\n",
       "  '현장',\n",
       "  '자재',\n",
       "  '승인',\n",
       "  '서류',\n",
       "  '각',\n",
       "  '현장',\n",
       "  'Vendor',\n",
       "  '연락',\n",
       "  '필요',\n",
       "  '서류',\n",
       "  '접수',\n",
       "  '본사',\n",
       "  '차원',\n",
       "  '대형',\n",
       "  'Vendor',\n",
       "  '철골',\n",
       "  '배관',\n",
       "  '덕트',\n",
       "  '케이블',\n",
       "  '밸브',\n",
       "  '펌프',\n",
       "  '등',\n",
       "  '의',\n",
       "  '각종',\n",
       "  '서류',\n",
       "  '카달',\n",
       "  '로그',\n",
       "  '지방세',\n",
       "  '국세',\n",
       "  '납부',\n",
       "  '확인',\n",
       "  '공장',\n",
       "  '등록증',\n",
       "  '각종',\n",
       "  '시험',\n",
       "  '성적',\n",
       "  '를',\n",
       "  '시스템',\n",
       "  '업로드',\n",
       "  '현장',\n",
       "  '담당',\n",
       "  '추출',\n",
       "  '수',\n",
       "  '해당',\n",
       "  '업무',\n",
       "  '주로',\n",
       "  '협력',\n",
       "  '사',\n",
       "  '수행',\n",
       "  '서류',\n",
       "  '미비',\n",
       "  '시',\n",
       "  'SECL',\n",
       "  '담당',\n",
       "  'Vendor',\n",
       "  '직접',\n",
       "  '연락',\n",
       "  '경우',\n",
       "  '자재',\n",
       "  '검사',\n",
       "  '종별',\n",
       "  '현장',\n",
       "  '별',\n",
       "  '자재',\n",
       "  '검품',\n",
       "  '위치',\n",
       "  '시스템',\n",
       "  '협력',\n",
       "  '사가',\n",
       "  '자재',\n",
       "  '검사',\n",
       "  '신청',\n",
       "  '감리',\n",
       "  'secl',\n",
       "  '담당',\n",
       "  '자동',\n",
       "  '연락',\n",
       "  '검사',\n",
       "  '것',\n",
       "  '지금',\n",
       "  '자재',\n",
       "  '때',\n",
       "  '감리',\n",
       "  '약속',\n",
       "  '정해',\n",
       "  '검수'],\n",
       " ['자재',\n",
       "  '승인',\n",
       "  '서류',\n",
       "  '작성',\n",
       "  'BM',\n",
       "  'CQI',\n",
       "  '목록',\n",
       "  '취합',\n",
       "  '관련',\n",
       "  '도면',\n",
       "  'VP',\n",
       "  '관련',\n",
       "  '자료',\n",
       "  '자동',\n",
       "  '연결'],\n",
       " ['사용', '자재', '및', '동일', '품목', '자재', '대한', 'Data', 'Base', '구축'],\n",
       " ['ERP', 'Material', 'Code', '별', '재고', '파악', '등', '적용'],\n",
       " ['자재', '발주'],\n",
       " ['자재', '승인', '이력', '관리', '필요', 'Referance', '검색', '필요']]"
      ]
     },
     "execution_count": 167,
     "metadata": {},
     "output_type": "execute_result"
    }
   ],
   "source": [
    "line_list"
   ]
  },
  {
   "cell_type": "code",
   "execution_count": 189,
   "metadata": {
    "ExecuteTime": {
     "end_time": "2021-01-23T15:35:58.801486Z",
     "start_time": "2021-01-23T15:35:58.785886Z"
    }
   },
   "outputs": [],
   "source": [
    "# import gensim\n",
    "# from gensim import corpora\n",
    "# import logging\n",
    "# logging.basicConfig(level=logging.DEBUG)\n",
    "# topic = 5\n",
    "# keyword = 10\n",
    "# texts = []\n",
    "# resultList = []\n",
    "# stop_list = [\"별\",\"등\",\"의\"]\n",
    "# for line in line_list:\n",
    "#     words = line\n",
    "#     if words != [\"\"]:\n",
    "#         tokens = [word for word in words if (len(word.split(\"/\")[0]) > 1 and word.split(\"/\")[0] not in stop_list)]\n",
    "#         texts.append(tokens)\n",
    "# dictionary = corpora.Dictionary(texts)    \n",
    "# corpus = [dictionary.doc2bow(text) for text in texts]\n",
    "\n",
    "# ldamodel = gensim.models.ldamodel.LdaModel(corpus, num_topics=topic, id2word = dictionary, passes=5)\n",
    "# for num in range(topic):\n",
    "#     resultList.append(ldamodel.show_topic(num, keyword))"
   ]
  },
  {
   "cell_type": "code",
   "execution_count": 186,
   "metadata": {
    "ExecuteTime": {
     "end_time": "2021-01-23T15:31:55.799793Z",
     "start_time": "2021-01-23T15:31:55.768593Z"
    }
   },
   "outputs": [],
   "source": [
    "topic1=[resultList[0][i][0] for i in range(0,keyword)]\n",
    "topic2=[resultList[1][i][0] for i in range(0,keyword)]\n",
    "topic3=[resultList[2][i][0] for i in range(0,keyword)]\n",
    "topic4=[resultList[3][i][0] for i in range(0,keyword)]\n",
    "topic5=[resultList[4][i][0] for i in range(0,keyword)]"
   ]
  },
  {
   "cell_type": "code",
   "execution_count": 187,
   "metadata": {
    "ExecuteTime": {
     "end_time": "2021-01-23T15:31:56.003804Z",
     "start_time": "2021-01-23T15:31:55.994804Z"
    }
   },
   "outputs": [],
   "source": [
    "df_topic=pd.DataFrame(data={'topic1':topic1,'topic2':topic2,\"topic3\":topic3,\"topic4\":topic4,\"topic5\":topic5})"
   ]
  },
  {
   "cell_type": "code",
   "execution_count": 188,
   "metadata": {
    "ExecuteTime": {
     "end_time": "2021-01-23T15:31:57.295844Z",
     "start_time": "2021-01-23T15:31:57.264644Z"
    }
   },
   "outputs": [
    {
     "data": {
      "text/html": [
       "<div>\n",
       "<style scoped>\n",
       "    .dataframe tbody tr th:only-of-type {\n",
       "        vertical-align: middle;\n",
       "    }\n",
       "\n",
       "    .dataframe tbody tr th {\n",
       "        vertical-align: top;\n",
       "    }\n",
       "\n",
       "    .dataframe thead th {\n",
       "        text-align: right;\n",
       "    }\n",
       "</style>\n",
       "<table border=\"1\" class=\"dataframe\">\n",
       "  <thead>\n",
       "    <tr style=\"text-align: right;\">\n",
       "      <th></th>\n",
       "      <th>topic1</th>\n",
       "      <th>topic2</th>\n",
       "      <th>topic3</th>\n",
       "      <th>topic4</th>\n",
       "      <th>topic5</th>\n",
       "    </tr>\n",
       "  </thead>\n",
       "  <tbody>\n",
       "    <tr>\n",
       "      <th>0</th>\n",
       "      <td>자재</td>\n",
       "      <td>승인</td>\n",
       "      <td>승인</td>\n",
       "      <td>자재</td>\n",
       "      <td>현장</td>\n",
       "    </tr>\n",
       "    <tr>\n",
       "      <th>1</th>\n",
       "      <td>구축</td>\n",
       "      <td>VP</td>\n",
       "      <td>서류</td>\n",
       "      <td>서류</td>\n",
       "      <td>자재</td>\n",
       "    </tr>\n",
       "    <tr>\n",
       "      <th>2</th>\n",
       "      <td>DB</td>\n",
       "      <td>관련</td>\n",
       "      <td>자재</td>\n",
       "      <td>승인</td>\n",
       "      <td>검사</td>\n",
       "    </tr>\n",
       "    <tr>\n",
       "      <th>3</th>\n",
       "      <td>현장</td>\n",
       "      <td>재고</td>\n",
       "      <td>발주</td>\n",
       "      <td>현장</td>\n",
       "      <td>연락</td>\n",
       "    </tr>\n",
       "    <tr>\n",
       "      <th>4</th>\n",
       "      <td>서류</td>\n",
       "      <td>파악</td>\n",
       "      <td>적용</td>\n",
       "      <td>필요</td>\n",
       "      <td>서류</td>\n",
       "    </tr>\n",
       "    <tr>\n",
       "      <th>5</th>\n",
       "      <td>승인</td>\n",
       "      <td>알람</td>\n",
       "      <td>구축</td>\n",
       "      <td>Vendor</td>\n",
       "      <td>Vendor</td>\n",
       "    </tr>\n",
       "    <tr>\n",
       "      <th>6</th>\n",
       "      <td>자동</td>\n",
       "      <td>시트</td>\n",
       "      <td>DB</td>\n",
       "      <td>담당</td>\n",
       "      <td>담당</td>\n",
       "    </tr>\n",
       "    <tr>\n",
       "      <th>7</th>\n",
       "      <td>수행</td>\n",
       "      <td>포함</td>\n",
       "      <td>관련</td>\n",
       "      <td>연락</td>\n",
       "      <td>감리</td>\n",
       "    </tr>\n",
       "    <tr>\n",
       "      <th>8</th>\n",
       "      <td>확인</td>\n",
       "      <td>체크</td>\n",
       "      <td>필요</td>\n",
       "      <td>검사</td>\n",
       "      <td>협력</td>\n",
       "    </tr>\n",
       "    <tr>\n",
       "      <th>9</th>\n",
       "      <td>적용</td>\n",
       "      <td>ERP</td>\n",
       "      <td>VP</td>\n",
       "      <td>관련</td>\n",
       "      <td>승인</td>\n",
       "    </tr>\n",
       "  </tbody>\n",
       "</table>\n",
       "</div>"
      ],
      "text/plain": [
       "  topic1 topic2 topic3  topic4  topic5\n",
       "0     자재     승인     승인      자재      현장\n",
       "1     구축     VP     서류      서류      자재\n",
       "2     DB     관련     자재      승인      검사\n",
       "3     현장     재고     발주      현장      연락\n",
       "4     서류     파악     적용      필요      서류\n",
       "5     승인     알람     구축  Vendor  Vendor\n",
       "6     자동     시트     DB      담당      담당\n",
       "7     수행     포함     관련      연락      감리\n",
       "8     확인     체크     필요      검사      협력\n",
       "9     적용    ERP     VP      관련      승인"
      ]
     },
     "execution_count": 188,
     "metadata": {},
     "output_type": "execute_result"
    }
   ],
   "source": [
    "df_topic"
   ]
  },
  {
   "cell_type": "markdown",
   "metadata": {},
   "source": [
    "###  자재 승인 요청 필요성 - 5점"
   ]
  },
  {
   "cell_type": "code",
   "execution_count": 192,
   "metadata": {
    "ExecuteTime": {
     "end_time": "2021-01-23T15:38:01.309737Z",
     "start_time": "2021-01-23T15:38:01.278537Z"
    }
   },
   "outputs": [
    {
     "name": "stdout",
     "output_type": "stream",
     "text": [
      "(7, 1)\n"
     ]
    },
    {
     "data": {
      "text/html": [
       "<div>\n",
       "<style scoped>\n",
       "    .dataframe tbody tr th:only-of-type {\n",
       "        vertical-align: middle;\n",
       "    }\n",
       "\n",
       "    .dataframe tbody tr th {\n",
       "        vertical-align: top;\n",
       "    }\n",
       "\n",
       "    .dataframe thead th {\n",
       "        text-align: right;\n",
       "    }\n",
       "</style>\n",
       "<table border=\"1\" class=\"dataframe\">\n",
       "  <thead>\n",
       "    <tr style=\"text-align: right;\">\n",
       "      <th></th>\n",
       "      <th>자재승인요청_필요항목</th>\n",
       "    </tr>\n",
       "  </thead>\n",
       "  <tbody>\n",
       "    <tr>\n",
       "      <th>2</th>\n",
       "      <td>자재승인업무 중 결재라인 자동화필요</td>\n",
       "    </tr>\n",
       "    <tr>\n",
       "      <th>3</th>\n",
       "      <td>여러 품목에 대한 서류 작성에 시간이 소모됨</td>\n",
       "    </tr>\n",
       "    <tr>\n",
       "      <th>7</th>\n",
       "      <td>승인관련서류(사업자등록증, 공장등록증 외), VP</td>\n",
       "    </tr>\n",
       "    <tr>\n",
       "      <th>25</th>\n",
       "      <td>서류 및 VP Upload 자동화</td>\n",
       "    </tr>\n",
       "    <tr>\n",
       "      <th>26</th>\n",
       "      <td>서류 및 VP Upload</td>\n",
       "    </tr>\n",
       "    <tr>\n",
       "      <th>28</th>\n",
       "      <td>진행형황 수시 확인가능 및 관련자 모두 확인이 용이</td>\n",
       "    </tr>\n",
       "    <tr>\n",
       "      <th>35</th>\n",
       "      <td>서류 및 VP Upload 자동화</td>\n",
       "    </tr>\n",
       "  </tbody>\n",
       "</table>\n",
       "</div>"
      ],
      "text/plain": [
       "                     자재승인요청_필요항목\n",
       "2            자재승인업무 중 결재라인 자동화필요\n",
       "3       여러 품목에 대한 서류 작성에 시간이 소모됨\n",
       "7    승인관련서류(사업자등록증, 공장등록증 외), VP\n",
       "25            서류 및 VP Upload 자동화\n",
       "26                서류 및 VP Upload\n",
       "28  진행형황 수시 확인가능 및 관련자 모두 확인이 용이\n",
       "35            서류 및 VP Upload 자동화"
      ]
     },
     "execution_count": 192,
     "metadata": {},
     "output_type": "execute_result"
    }
   ],
   "source": [
    "df_app_need_text=df_approval_filtered1.loc[df_approval_filtered1['자재승인요청_필요']==5,[\"자재승인요청_필요항목\"]]\n",
    "\n",
    "print(df_app_need_text.shape)\n",
    "df_app_need_text"
   ]
  },
  {
   "cell_type": "code",
   "execution_count": null,
   "metadata": {},
   "outputs": [],
   "source": []
  }
 ],
 "metadata": {
  "hide_input": false,
  "kernelspec": {
   "display_name": "Python 3",
   "language": "python",
   "name": "python3"
  },
  "language_info": {
   "codemirror_mode": {
    "name": "ipython",
    "version": 3
   },
   "file_extension": ".py",
   "mimetype": "text/x-python",
   "name": "python",
   "nbconvert_exporter": "python",
   "pygments_lexer": "ipython3",
   "version": "3.6.2"
  },
  "toc": {
   "base_numbering": 1,
   "nav_menu": {},
   "number_sections": true,
   "sideBar": true,
   "skip_h1_title": false,
   "title_cell": "Table of Contents",
   "title_sidebar": "Contents",
   "toc_cell": false,
   "toc_position": {},
   "toc_section_display": true,
   "toc_window_display": true
  },
  "varInspector": {
   "cols": {
    "lenName": 16,
    "lenType": 16,
    "lenVar": 40
   },
   "kernels_config": {
    "python": {
     "delete_cmd_postfix": "",
     "delete_cmd_prefix": "del ",
     "library": "var_list.py",
     "varRefreshCmd": "print(var_dic_list())"
    },
    "r": {
     "delete_cmd_postfix": ") ",
     "delete_cmd_prefix": "rm(",
     "library": "var_list.r",
     "varRefreshCmd": "cat(var_dic_list()) "
    }
   },
   "types_to_exclude": [
    "module",
    "function",
    "builtin_function_or_method",
    "instance",
    "_Feature"
   ],
   "window_display": false
  }
 },
 "nbformat": 4,
 "nbformat_minor": 4
}
